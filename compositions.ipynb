{
  "nbformat": 4,
  "nbformat_minor": 0,
  "metadata": {
    "kernelspec": {
      "display_name": "Python 3",
      "language": "python",
      "name": "python3"
    },
    "language_info": {
      "codemirror_mode": {
        "name": "ipython",
        "version": 3
      },
      "file_extension": ".py",
      "mimetype": "text/x-python",
      "name": "python",
      "nbconvert_exporter": "python",
      "pygments_lexer": "ipython3",
      "version": "3.6.10"
    },
    "colab": {
      "name": "compositions_Подпрятов В. А, РИ-380022 .ipynb",
      "provenance": [],
      "collapsed_sections": []
    },
    "accelerator": "GPU"
  },
  "cells": [
    {
      "cell_type": "markdown",
      "metadata": {
        "id": "g8pYW2hvgtN1"
      },
      "source": [
        "Подпрятов В. А. \\\n",
        "РИ-380022\n"
      ]
    },
    {
      "cell_type": "markdown",
      "metadata": {
        "id": "h6_5HYmvr3A7"
      },
      "source": [
        "Постановка задачи.\n",
        "1. Используя набор данных с информацией о типе стекла и его химическом составе, произвести классификацию типов стекла. Для классификации типов стекла используйте мета-модель (композицию из различных моделей). Композиция должна состоять из трёх и более базовых моделей.\n",
        "2. Проведите сравнительный анализ результатов базовых моделей между собой.\n",
        "3. Проведите сравнительный анализ результатов композиции и базовых моделей между собой.\n",
        "\n",
        "Описание данных:\n",
        "1. Id number: 1 to 214 (removed from CSV file)\n",
        "2. RI: refractive index\n",
        "3. Na: Sodium (unit measurement: weight percent in corresponding oxide, as are attributes 4-10)\n",
        "4. Mg: Magnesium\n",
        "5. Al: Aluminum\n",
        "6. Si: Silicon\n",
        "6. K: Potassium\n",
        "7. Ca: Calcium\n",
        "8. Ba: Barium\n",
        "9. Fe: Iron\n",
        "10. Type of glass: (class attribute)\n",
        "-- 1 buildingwindowsfloatprocessed \n",
        "-- 2 buildingwindowsnonfloatprocessed \n",
        "-- 3 vehiclewindowsfloatprocessed\n",
        "-- 4 vehiclewindowsnonfloatprocessed (none in this database)\n",
        "-- 5 containers\n",
        "-- 6 tableware\n",
        "-- 7 headlamps"
      ]
    },
    {
      "cell_type": "code",
      "metadata": {
        "colab": {
          "base_uri": "https://localhost:8080/"
        },
        "id": "SFPvARARvUeM",
        "outputId": "cec88e7d-6c58-409a-8a34-5582b96e5aa1"
      },
      "source": [
        "from google.colab import drive\n",
        "drive.mount('/content/drive')"
      ],
      "execution_count": 1,
      "outputs": [
        {
          "output_type": "stream",
          "name": "stdout",
          "text": [
            "Mounted at /content/drive\n"
          ]
        }
      ]
    },
    {
      "cell_type": "code",
      "metadata": {
        "colab": {
          "base_uri": "https://localhost:8080/"
        },
        "id": "jj589y8oodY9",
        "outputId": "f4bb9c7f-270e-4aa6-c249-4f5896bad52e"
      },
      "source": [
        "! pip install catboost==0.22\n",
        "! pip install lightgbm==2.3.1"
      ],
      "execution_count": 2,
      "outputs": [
        {
          "output_type": "stream",
          "name": "stdout",
          "text": [
            "Collecting catboost==0.22\n",
            "  Downloading catboost-0.22-cp37-none-manylinux1_x86_64.whl (64.4 MB)\n",
            "\u001b[K     |████████████████████████████████| 64.4 MB 1.5 MB/s \n",
            "\u001b[?25hRequirement already satisfied: six in /usr/local/lib/python3.7/dist-packages (from catboost==0.22) (1.15.0)\n",
            "Requirement already satisfied: numpy>=1.16.0 in /usr/local/lib/python3.7/dist-packages (from catboost==0.22) (1.19.5)\n",
            "Requirement already satisfied: scipy in /usr/local/lib/python3.7/dist-packages (from catboost==0.22) (1.4.1)\n",
            "Requirement already satisfied: pandas>=0.24.0 in /usr/local/lib/python3.7/dist-packages (from catboost==0.22) (1.1.5)\n",
            "Requirement already satisfied: graphviz in /usr/local/lib/python3.7/dist-packages (from catboost==0.22) (0.10.1)\n",
            "Requirement already satisfied: plotly in /usr/local/lib/python3.7/dist-packages (from catboost==0.22) (4.4.1)\n",
            "Requirement already satisfied: matplotlib in /usr/local/lib/python3.7/dist-packages (from catboost==0.22) (3.2.2)\n",
            "Requirement already satisfied: pytz>=2017.2 in /usr/local/lib/python3.7/dist-packages (from pandas>=0.24.0->catboost==0.22) (2018.9)\n",
            "Requirement already satisfied: python-dateutil>=2.7.3 in /usr/local/lib/python3.7/dist-packages (from pandas>=0.24.0->catboost==0.22) (2.8.2)\n",
            "Requirement already satisfied: cycler>=0.10 in /usr/local/lib/python3.7/dist-packages (from matplotlib->catboost==0.22) (0.11.0)\n",
            "Requirement already satisfied: pyparsing!=2.0.4,!=2.1.2,!=2.1.6,>=2.0.1 in /usr/local/lib/python3.7/dist-packages (from matplotlib->catboost==0.22) (3.0.6)\n",
            "Requirement already satisfied: kiwisolver>=1.0.1 in /usr/local/lib/python3.7/dist-packages (from matplotlib->catboost==0.22) (1.3.2)\n",
            "Requirement already satisfied: retrying>=1.3.3 in /usr/local/lib/python3.7/dist-packages (from plotly->catboost==0.22) (1.3.3)\n",
            "Installing collected packages: catboost\n",
            "Successfully installed catboost-0.22\n",
            "Collecting lightgbm==2.3.1\n",
            "  Downloading lightgbm-2.3.1-py2.py3-none-manylinux1_x86_64.whl (1.2 MB)\n",
            "\u001b[K     |████████████████████████████████| 1.2 MB 5.2 MB/s \n",
            "\u001b[?25hRequirement already satisfied: scipy in /usr/local/lib/python3.7/dist-packages (from lightgbm==2.3.1) (1.4.1)\n",
            "Requirement already satisfied: numpy in /usr/local/lib/python3.7/dist-packages (from lightgbm==2.3.1) (1.19.5)\n",
            "Requirement already satisfied: scikit-learn in /usr/local/lib/python3.7/dist-packages (from lightgbm==2.3.1) (1.0.1)\n",
            "Requirement already satisfied: threadpoolctl>=2.0.0 in /usr/local/lib/python3.7/dist-packages (from scikit-learn->lightgbm==2.3.1) (3.0.0)\n",
            "Requirement already satisfied: joblib>=0.11 in /usr/local/lib/python3.7/dist-packages (from scikit-learn->lightgbm==2.3.1) (1.1.0)\n",
            "Installing collected packages: lightgbm\n",
            "  Attempting uninstall: lightgbm\n",
            "    Found existing installation: lightgbm 2.2.3\n",
            "    Uninstalling lightgbm-2.2.3:\n",
            "      Successfully uninstalled lightgbm-2.2.3\n",
            "Successfully installed lightgbm-2.3.1\n"
          ]
        }
      ]
    },
    {
      "cell_type": "code",
      "metadata": {
        "id": "y-7U56yxr3A9"
      },
      "source": [
        "#блок для импорта библиотек\n",
        "import pandas as pd\n",
        "import numpy as np\n",
        "import catboost\n",
        "import lightgbm\n",
        "\n",
        "import matplotlib.pyplot as plt\n",
        "from sklearn.preprocessing import StandardScaler\n",
        "\n",
        "from sklearn.model_selection import GridSearchCV\n",
        "from sklearn.model_selection import train_test_split\n",
        "\n",
        "\n",
        "from sklearn.metrics import accuracy_score\n",
        "\n",
        "from sklearn.tree import DecisionTreeClassifier\n",
        "from sklearn.linear_model import LogisticRegression\n",
        "from sklearn.neighbors import KNeighborsClassifier\n",
        "from sklearn.svm import SVC\n",
        "\n",
        "from sklearn.ensemble import RandomForestClassifier\n",
        "from sklearn.ensemble import BaggingClassifier\n",
        "\n",
        "from catboost import CatBoostClassifier\n",
        "from lightgbm import LGBMClassifier"
      ],
      "execution_count": 3,
      "outputs": []
    },
    {
      "cell_type": "markdown",
      "metadata": {
        "id": "PHDmojo26KPy"
      },
      "source": [
        "###Препроцессинг данных."
      ]
    },
    {
      "cell_type": "code",
      "metadata": {
        "id": "TeVPejZSyVTT"
      },
      "source": [
        "data = pd.read_csv('/content/drive/MyDrive/Test/glass.csv')"
      ],
      "execution_count": 4,
      "outputs": []
    },
    {
      "cell_type": "code",
      "metadata": {
        "colab": {
          "base_uri": "https://localhost:8080/"
        },
        "id": "HT9M7zB0Hzt6",
        "outputId": "996ac226-c9c3-4b69-bdb3-e8dfae9d3f58"
      },
      "source": [
        "data.info()"
      ],
      "execution_count": 5,
      "outputs": [
        {
          "output_type": "stream",
          "name": "stdout",
          "text": [
            "<class 'pandas.core.frame.DataFrame'>\n",
            "RangeIndex: 214 entries, 0 to 213\n",
            "Data columns (total 10 columns):\n",
            " #   Column  Non-Null Count  Dtype  \n",
            "---  ------  --------------  -----  \n",
            " 0   RI      214 non-null    float64\n",
            " 1   Na      214 non-null    float64\n",
            " 2   Mg      214 non-null    float64\n",
            " 3   Al      214 non-null    float64\n",
            " 4   Si      214 non-null    float64\n",
            " 5   K       214 non-null    float64\n",
            " 6   Ca      214 non-null    float64\n",
            " 7   Ba      214 non-null    float64\n",
            " 8   Fe      214 non-null    float64\n",
            " 9   Type    214 non-null    int64  \n",
            "dtypes: float64(9), int64(1)\n",
            "memory usage: 16.8 KB\n"
          ]
        }
      ]
    },
    {
      "cell_type": "code",
      "metadata": {
        "colab": {
          "base_uri": "https://localhost:8080/",
          "height": 204
        },
        "id": "5ktwAs1Wr3A-",
        "outputId": "de23e361-3326-4010-eaea-ad47bc7fec74"
      },
      "source": [
        "data.head()"
      ],
      "execution_count": 6,
      "outputs": [
        {
          "output_type": "execute_result",
          "data": {
            "text/html": [
              "<div>\n",
              "<style scoped>\n",
              "    .dataframe tbody tr th:only-of-type {\n",
              "        vertical-align: middle;\n",
              "    }\n",
              "\n",
              "    .dataframe tbody tr th {\n",
              "        vertical-align: top;\n",
              "    }\n",
              "\n",
              "    .dataframe thead th {\n",
              "        text-align: right;\n",
              "    }\n",
              "</style>\n",
              "<table border=\"1\" class=\"dataframe\">\n",
              "  <thead>\n",
              "    <tr style=\"text-align: right;\">\n",
              "      <th></th>\n",
              "      <th>RI</th>\n",
              "      <th>Na</th>\n",
              "      <th>Mg</th>\n",
              "      <th>Al</th>\n",
              "      <th>Si</th>\n",
              "      <th>K</th>\n",
              "      <th>Ca</th>\n",
              "      <th>Ba</th>\n",
              "      <th>Fe</th>\n",
              "      <th>Type</th>\n",
              "    </tr>\n",
              "  </thead>\n",
              "  <tbody>\n",
              "    <tr>\n",
              "      <th>0</th>\n",
              "      <td>1.52101</td>\n",
              "      <td>13.64</td>\n",
              "      <td>4.49</td>\n",
              "      <td>1.10</td>\n",
              "      <td>71.78</td>\n",
              "      <td>0.06</td>\n",
              "      <td>8.75</td>\n",
              "      <td>0.0</td>\n",
              "      <td>0.0</td>\n",
              "      <td>1</td>\n",
              "    </tr>\n",
              "    <tr>\n",
              "      <th>1</th>\n",
              "      <td>1.51761</td>\n",
              "      <td>13.89</td>\n",
              "      <td>3.60</td>\n",
              "      <td>1.36</td>\n",
              "      <td>72.73</td>\n",
              "      <td>0.48</td>\n",
              "      <td>7.83</td>\n",
              "      <td>0.0</td>\n",
              "      <td>0.0</td>\n",
              "      <td>1</td>\n",
              "    </tr>\n",
              "    <tr>\n",
              "      <th>2</th>\n",
              "      <td>1.51618</td>\n",
              "      <td>13.53</td>\n",
              "      <td>3.55</td>\n",
              "      <td>1.54</td>\n",
              "      <td>72.99</td>\n",
              "      <td>0.39</td>\n",
              "      <td>7.78</td>\n",
              "      <td>0.0</td>\n",
              "      <td>0.0</td>\n",
              "      <td>1</td>\n",
              "    </tr>\n",
              "    <tr>\n",
              "      <th>3</th>\n",
              "      <td>1.51766</td>\n",
              "      <td>13.21</td>\n",
              "      <td>3.69</td>\n",
              "      <td>1.29</td>\n",
              "      <td>72.61</td>\n",
              "      <td>0.57</td>\n",
              "      <td>8.22</td>\n",
              "      <td>0.0</td>\n",
              "      <td>0.0</td>\n",
              "      <td>1</td>\n",
              "    </tr>\n",
              "    <tr>\n",
              "      <th>4</th>\n",
              "      <td>1.51742</td>\n",
              "      <td>13.27</td>\n",
              "      <td>3.62</td>\n",
              "      <td>1.24</td>\n",
              "      <td>73.08</td>\n",
              "      <td>0.55</td>\n",
              "      <td>8.07</td>\n",
              "      <td>0.0</td>\n",
              "      <td>0.0</td>\n",
              "      <td>1</td>\n",
              "    </tr>\n",
              "  </tbody>\n",
              "</table>\n",
              "</div>"
            ],
            "text/plain": [
              "        RI     Na    Mg    Al     Si     K    Ca   Ba   Fe  Type\n",
              "0  1.52101  13.64  4.49  1.10  71.78  0.06  8.75  0.0  0.0     1\n",
              "1  1.51761  13.89  3.60  1.36  72.73  0.48  7.83  0.0  0.0     1\n",
              "2  1.51618  13.53  3.55  1.54  72.99  0.39  7.78  0.0  0.0     1\n",
              "3  1.51766  13.21  3.69  1.29  72.61  0.57  8.22  0.0  0.0     1\n",
              "4  1.51742  13.27  3.62  1.24  73.08  0.55  8.07  0.0  0.0     1"
            ]
          },
          "metadata": {},
          "execution_count": 6
        }
      ]
    },
    {
      "cell_type": "code",
      "metadata": {
        "colab": {
          "base_uri": "https://localhost:8080/"
        },
        "id": "YvRkhMKo6nkK",
        "outputId": "05c81f06-8a0f-4d57-f3b9-97b39a8b4e48"
      },
      "source": [
        "data[data.columns].isna().sum()"
      ],
      "execution_count": 7,
      "outputs": [
        {
          "output_type": "execute_result",
          "data": {
            "text/plain": [
              "RI      0\n",
              "Na      0\n",
              "Mg      0\n",
              "Al      0\n",
              "Si      0\n",
              "K       0\n",
              "Ca      0\n",
              "Ba      0\n",
              "Fe      0\n",
              "Type    0\n",
              "dtype: int64"
            ]
          },
          "metadata": {},
          "execution_count": 7
        }
      ]
    },
    {
      "cell_type": "code",
      "metadata": {
        "id": "y83FdBwy9_PY"
      },
      "source": [
        "features = data.drop('Type', axis=1)\n",
        "\n",
        "sc=StandardScaler()\n",
        "X=sc.fit_transform(features)"
      ],
      "execution_count": 8,
      "outputs": []
    },
    {
      "cell_type": "markdown",
      "metadata": {
        "id": "ZnJMTjObr3A-"
      },
      "source": [
        "Разделите данные на тестовую и обучающую выборки."
      ]
    },
    {
      "cell_type": "code",
      "metadata": {
        "id": "wQd-kIFmr3A_"
      },
      "source": [
        "seed = 5\n",
        "X_train, X_test, y_train, y_test = train_test_split(X, data['Type'], test_size=0.3, random_state=seed)\n",
        "\n",
        "all_model = []\n",
        "base_model_list = []\n",
        "meta_mode_list = []\n",
        "base_model = {}\n",
        "all_model_dict = {}"
      ],
      "execution_count": 9,
      "outputs": []
    },
    {
      "cell_type": "markdown",
      "metadata": {
        "id": "w0EODMmwULAK"
      },
      "source": [
        "#Сформируйте и обучите базовые модели."
      ]
    },
    {
      "cell_type": "code",
      "metadata": {
        "id": "q73n-seQ6q5k"
      },
      "source": [
        "def get_best_model(estimator, param_grid, cv=5, scoring='accuracy',n_jobs=-1):\n",
        "  model_grid = GridSearchCV(estimator=estimator,\n",
        "                       param_grid=param_grid, \n",
        "                       cv=cv,\n",
        "                       scoring=scoring,\n",
        "                       n_jobs=n_jobs)\n",
        "  model_fit = model_grid.fit(X_train, y_train)\n",
        "  model_fit.best_estimator_.fit(X_train, y_train)\n",
        "  return model_fit.best_estimator_"
      ],
      "execution_count": 10,
      "outputs": []
    },
    {
      "cell_type": "code",
      "metadata": {
        "id": "woDoHSbJA9ER"
      },
      "source": [
        "def get_accuracy_model(estimators):  \n",
        "  \n",
        "  model_best = estimators.fit(X_train, y_train)\n",
        "  y_predict_train = model_best.predict(X_train)\n",
        "  accuracy_train = accuracy_score(y_predict_train, y_train) #оценка на тренеровочных данных\n",
        "\n",
        "  y_predict_test = estimators.predict(X_test)\n",
        "  accuracy_test = accuracy_score(y_predict_test, y_test) #оценка на тестовых данных\n",
        "  accuracy_score_model = {}\n",
        "  accuracy_score_model[type(model_best).__name__] = {'train': accuracy_train,'test': accuracy_test } \n",
        "  all_model_dict[type(model_best).__name__] = {'train': accuracy_train,'test': accuracy_test } \n",
        "  return accuracy_score_model"
      ],
      "execution_count": 11,
      "outputs": []
    },
    {
      "cell_type": "code",
      "metadata": {
        "id": "vB_i9RA2GPwP"
      },
      "source": [
        "def print_my_dict(dict):\n",
        "  for x in dict:\n",
        "    print (x)\n",
        "    for y in dict[x]:\n",
        "        print (y,':',dict[x][y])"
      ],
      "execution_count": 12,
      "outputs": []
    },
    {
      "cell_type": "markdown",
      "metadata": {
        "id": "udw3Cvw3M0kt"
      },
      "source": [
        "##Обучение на решающих деревьях"
      ]
    },
    {
      "cell_type": "code",
      "metadata": {
        "id": "l54NV_8Wr3A_"
      },
      "source": [
        "# Обучение на модели решающее дерево.\n",
        "# С помощью GridSearchCV обучаем множество решающих деревьев с различными \n",
        "# гиперпараметрами и выбираем лучшую модель с гиперпараметрами из множества\n",
        "# для решения нашей задачи.\n",
        "\n",
        "modelDecisionTree  = DecisionTreeClassifier(random_state=seed)\n",
        "\n",
        "param_grid = {\n",
        "              'max_depth': range(5,20), \n",
        "              'max_features': ['auto', 'sqrt', None],\n",
        "              'min_samples_leaf':range(1, 10),\n",
        "              'min_samples_split':range(2, 10, 2), \n",
        "              'criterion': ['gini', 'entropy']\n",
        "              }\n",
        "best_estimator = get_best_model(modelDecisionTree,param_grid)\n",
        "best_estimator_for_bagg_DT = best_estimator"
      ],
      "execution_count": 13,
      "outputs": []
    },
    {
      "cell_type": "code",
      "metadata": {
        "colab": {
          "base_uri": "https://localhost:8080/"
        },
        "id": "yR4HABXECAdB",
        "outputId": "c61d31ef-0a3f-497b-bb8b-f1834511aed1"
      },
      "source": [
        "accuracy_score_model= get_accuracy_model(best_estimator)\n",
        "print_my_dict(accuracy_score_model)\n",
        "all_model.append(accuracy_score_model)\n",
        "\n",
        "base_model_list.append(accuracy_score_model)\n",
        "base_model['DecisionTreeClassifier'] =accuracy_score_model['DecisionTreeClassifier']"
      ],
      "execution_count": 14,
      "outputs": [
        {
          "output_type": "stream",
          "name": "stdout",
          "text": [
            "DecisionTreeClassifier\n",
            "train : 0.7651006711409396\n",
            "test : 0.6923076923076923\n"
          ]
        }
      ]
    },
    {
      "cell_type": "markdown",
      "metadata": {
        "id": "KfXtCGi1fwZF"
      },
      "source": [
        "##Обучение на логическом классификаторе"
      ]
    },
    {
      "cell_type": "code",
      "metadata": {
        "id": "zldcHc-cf_0z",
        "colab": {
          "base_uri": "https://localhost:8080/"
        },
        "outputId": "5ea9ec8a-8c81-4a7d-bfbe-38dde38cd683"
      },
      "source": [
        "param_grid={\n",
        "    \"C\":np.logspace(-3,3,7),\n",
        "    \"penalty\":[\"l1\",\"l2\"]\n",
        "    }# l1 lasso l2 ridge\n",
        "\n",
        "modelLogisticRegression=LogisticRegression(random_state=seed)\n",
        "\n",
        "best_estimator = get_best_model(modelLogisticRegression,param_grid)\n",
        "best_estimator_for_bagg_LR = best_estimator"
      ],
      "execution_count": 15,
      "outputs": [
        {
          "output_type": "stream",
          "name": "stderr",
          "text": [
            "/usr/local/lib/python3.7/dist-packages/sklearn/model_selection/_validation.py:372: FitFailedWarning: \n",
            "35 fits failed out of a total of 70.\n",
            "The score on these train-test partitions for these parameters will be set to nan.\n",
            "If these failures are not expected, you can try to debug them by setting error_score='raise'.\n",
            "\n",
            "Below are more details about the failures:\n",
            "--------------------------------------------------------------------------------\n",
            "35 fits failed with the following error:\n",
            "Traceback (most recent call last):\n",
            "  File \"/usr/local/lib/python3.7/dist-packages/sklearn/model_selection/_validation.py\", line 681, in _fit_and_score\n",
            "    estimator.fit(X_train, y_train, **fit_params)\n",
            "  File \"/usr/local/lib/python3.7/dist-packages/sklearn/linear_model/_logistic.py\", line 1461, in fit\n",
            "    solver = _check_solver(self.solver, self.penalty, self.dual)\n",
            "  File \"/usr/local/lib/python3.7/dist-packages/sklearn/linear_model/_logistic.py\", line 449, in _check_solver\n",
            "    % (solver, penalty)\n",
            "ValueError: Solver lbfgs supports only 'l2' or 'none' penalties, got l1 penalty.\n",
            "\n",
            "  warnings.warn(some_fits_failed_message, FitFailedWarning)\n",
            "/usr/local/lib/python3.7/dist-packages/sklearn/model_selection/_search.py:972: UserWarning: One or more of the test scores are non-finite: [       nan 0.37586207        nan 0.47678161        nan 0.5845977\n",
            "        nan 0.63816092        nan 0.63816092        nan 0.63770115\n",
            "        nan 0.5908046 ]\n",
            "  category=UserWarning,\n"
          ]
        }
      ]
    },
    {
      "cell_type": "code",
      "metadata": {
        "colab": {
          "base_uri": "https://localhost:8080/"
        },
        "id": "WCsXMMP0g9I7",
        "outputId": "68312dc5-8722-4ad9-a6f0-47d8eeafb603"
      },
      "source": [
        "accuracy_score_model= get_accuracy_model(best_estimator)\n",
        "print_my_dict(accuracy_score_model)\n",
        "all_model.append(accuracy_score_model)\n",
        "\n",
        "base_model_list.append(accuracy_score_model)\n",
        "base_model['LogisticRegression'] =accuracy_score_model['LogisticRegression']"
      ],
      "execution_count": null,
      "outputs": [
        {
          "output_type": "stream",
          "text": [
            "LogisticRegression\n",
            "train : 0.6845637583892618\n",
            "test : 0.6615384615384615\n"
          ],
          "name": "stdout"
        }
      ]
    },
    {
      "cell_type": "markdown",
      "metadata": {
        "id": "BaI2rCubiHjZ"
      },
      "source": [
        "##Обучение на методе ближайших соседей "
      ]
    },
    {
      "cell_type": "code",
      "metadata": {
        "id": "N-41DI7BiH4n"
      },
      "source": [
        "param_grid={\n",
        "    \"n_neighbors\": [3,5,11,19],\n",
        "    \"weights\":['uniform', 'distance']\n",
        "    }\n",
        "modelKNeighbors = KNeighborsClassifier()\n",
        "best_estimator = get_best_model(modelKNeighbors,param_grid)\n",
        "best_estimator_for_bagg_KNN = best_estimator"
      ],
      "execution_count": null,
      "outputs": []
    },
    {
      "cell_type": "code",
      "metadata": {
        "colab": {
          "base_uri": "https://localhost:8080/"
        },
        "id": "veOGdJG1k-9A",
        "outputId": "b976058e-65eb-4ea2-8c7a-c24f3e99405c"
      },
      "source": [
        "accuracy_score_model= get_accuracy_model(best_estimator)\n",
        "print_my_dict(accuracy_score_model)\n",
        "all_model.append(accuracy_score_model)\n",
        "\n",
        "base_model_list.append(accuracy_score_model)\n",
        "base_model['KNeighborsClassifier'] =accuracy_score_model['KNeighborsClassifier']"
      ],
      "execution_count": null,
      "outputs": [
        {
          "output_type": "stream",
          "text": [
            "KNeighborsClassifier\n",
            "train : 0.8053691275167785\n",
            "test : 0.6923076923076923\n"
          ],
          "name": "stdout"
        }
      ]
    },
    {
      "cell_type": "markdown",
      "metadata": {
        "id": "Y5yHaFP91fDZ"
      },
      "source": [
        "##Обучения с помощью метода опорных вершин"
      ]
    },
    {
      "cell_type": "code",
      "metadata": {
        "id": "_4OgEFqL1nsG"
      },
      "source": [
        "param_grid = {\n",
        "    'kernel' : ['linear', 'poly', 'rbf']\n",
        "}\n",
        "\n",
        "modelSVC = SVC(random_state=seed)\n",
        "\n",
        "best_estimator = get_best_model(modelSVC, param_grid)\n"
      ],
      "execution_count": null,
      "outputs": []
    },
    {
      "cell_type": "code",
      "metadata": {
        "colab": {
          "base_uri": "https://localhost:8080/"
        },
        "id": "BKsqxaR11p27",
        "outputId": "d9ddf2ab-5e12-4120-98aa-6626a2fbf1d6"
      },
      "source": [
        "accuracy_score_model = get_accuracy_model(best_estimator)\n",
        "print_my_dict(accuracy_score_model)\n",
        "all_model.append(accuracy_score_model)\n",
        "\n",
        "base_model['SVC'] =accuracy_score_model['SVC']"
      ],
      "execution_count": null,
      "outputs": [
        {
          "output_type": "stream",
          "text": [
            "SVC\n",
            "train : 0.7785234899328859\n",
            "test : 0.7538461538461538\n"
          ],
          "name": "stdout"
        }
      ]
    },
    {
      "cell_type": "markdown",
      "metadata": {
        "id": "BW0FILIkMeIs"
      },
      "source": [
        "#Сформируйте и обучите композицию."
      ]
    },
    {
      "cell_type": "markdown",
      "metadata": {
        "id": "qcRjuXlqMlm9"
      },
      "source": [
        "##Обучения на случайных деревьях"
      ]
    },
    {
      "cell_type": "code",
      "metadata": {
        "id": "cVIb4t_SHNVx"
      },
      "source": [
        "# Сначала обучим модель случайные деревья.\n",
        "# С помощью GridSearchCV обучаем множество случайных деревьев с различными \n",
        "# гиперпараметрами и выбираем лучшую модель с гиперпараметрами из множества\n",
        "# для решения нашей задачи.\n",
        "param_grid = { \n",
        "              'n_estimators': range(100, 500, 100),\n",
        "              'max_features': ['auto', 'sqrt', 'log2'],\n",
        "              'max_depth' : range(5,20,5),\n",
        "              'criterion' :['gini', 'entropy']\n",
        "            }\n",
        "modelRandomForest = RandomForestClassifier(random_state=seed)\n",
        "\n",
        "best_estimator = get_best_model(modelRandomForest, param_grid)\n"
      ],
      "execution_count": null,
      "outputs": []
    },
    {
      "cell_type": "code",
      "metadata": {
        "colab": {
          "base_uri": "https://localhost:8080/"
        },
        "id": "4EdFqMgQNVy2",
        "outputId": "67a0bef1-2932-474d-ca22-7681d4b506e8"
      },
      "source": [
        "accuracy_score_model = get_accuracy_model(best_estimator)\n",
        "print_my_dict(accuracy_score_model)\n",
        "all_model.append(accuracy_score_model)\n"
      ],
      "execution_count": null,
      "outputs": [
        {
          "output_type": "stream",
          "text": [
            "RandomForestClassifier\n",
            "train : 1.0\n",
            "test : 0.8\n"
          ],
          "name": "stdout"
        }
      ]
    },
    {
      "cell_type": "markdown",
      "metadata": {
        "id": "0W9IgRv5OLLZ"
      },
      "source": [
        "##Обучения с помощью градиентного бустинга в реализации LightGBM"
      ]
    },
    {
      "cell_type": "code",
      "metadata": {
        "id": "l1zrZS8cDYIt"
      },
      "source": [
        "param_grid = {\n",
        "  'max_depth' : [5, 7, 9],\n",
        "  'learning_rate': [0.05, 0.1, 0.5]\n",
        "}\n",
        "modelLGBM = LGBMClassifier(random_state=seed)\n",
        "\n",
        "best_estimator = get_best_model(modelLGBM, param_grid)"
      ],
      "execution_count": null,
      "outputs": []
    },
    {
      "cell_type": "code",
      "metadata": {
        "colab": {
          "base_uri": "https://localhost:8080/"
        },
        "id": "imGh8HPZSHFR",
        "outputId": "30abff3a-a83f-46ad-d696-787d6a312f9d"
      },
      "source": [
        "accuracy_score_model = get_accuracy_model(best_estimator)\n",
        "print_my_dict(accuracy_score_model)\n",
        "all_model.append(accuracy_score_model)"
      ],
      "execution_count": null,
      "outputs": [
        {
          "output_type": "stream",
          "text": [
            "LGBMClassifier\n",
            "train : 0.9395973154362416\n",
            "test : 0.7230769230769231\n"
          ],
          "name": "stdout"
        }
      ]
    },
    {
      "cell_type": "markdown",
      "metadata": {
        "id": "ADgSjY6CStMF"
      },
      "source": [
        "##Обучения с помощью градиентного бустинга в реализации CatBoost"
      ]
    },
    {
      "cell_type": "code",
      "metadata": {
        "id": "bjwKHV46DHEk"
      },
      "source": [
        "param_grid = {\n",
        "    'learning_rate': [0.05, 0.1, 0.5],\n",
        "    'max_depth' : [5, 7, 9]     \n",
        "}\n",
        "\n",
        "modelCatBoost = CatBoostClassifier(random_state=seed, logging_level = 'Silent', task_type=\"GPU\", devices='0:1')\n",
        "best_estimator = get_best_model(modelCatBoost, param_grid)"
      ],
      "execution_count": null,
      "outputs": []
    },
    {
      "cell_type": "code",
      "metadata": {
        "id": "_9KbIEPGTg_a"
      },
      "source": [
        "accuracy_score_model = get_accuracy_model(best_estimator)\n",
        "print_my_dict(accuracy_score_model)\n",
        "all_model.append(accuracy_score_model)\n"
      ],
      "execution_count": null,
      "outputs": []
    },
    {
      "cell_type": "markdown",
      "metadata": {
        "id": "mq_QSBV-Waxm"
      },
      "source": [
        "##Обучения с помощью бэггинга в реализации BaggingClassifier"
      ]
    },
    {
      "cell_type": "markdown",
      "metadata": {
        "id": "gRJFVGbKlTwA"
      },
      "source": [
        "###Бэггинг с решающим деревом"
      ]
    },
    {
      "cell_type": "code",
      "metadata": {
        "id": "G0bNsy2OWWQM"
      },
      "source": [
        "param_grid = {\n",
        "    'base_estimator__max_depth' : range(1,6),\n",
        "    'max_samples' : [0.05, 0.1, 0.2, 0.5]\n",
        "}\n",
        "\n",
        "modelBagging = BaggingClassifier(best_estimator_for_bagg_DT, random_state=seed)\n",
        "\n",
        "best_estimator = get_best_model(modelBagging, param_grid)"
      ],
      "execution_count": null,
      "outputs": []
    },
    {
      "cell_type": "code",
      "metadata": {
        "colab": {
          "base_uri": "https://localhost:8080/"
        },
        "id": "fcWsPbNtZYj1",
        "outputId": "2cfcd56d-04f6-464b-c1b2-b9ae00a8a65c"
      },
      "source": [
        "accuracy_score_model = get_accuracy_model(best_estimator)\n",
        "print_my_dict(accuracy_score_model)\n",
        "all_model.append(accuracy_score_model)\n"
      ],
      "execution_count": null,
      "outputs": [
        {
          "output_type": "stream",
          "text": [
            "BaggingClassifier\n",
            "train : 0.8859060402684564\n",
            "test : 0.7076923076923077\n"
          ],
          "name": "stdout"
        }
      ]
    },
    {
      "cell_type": "markdown",
      "metadata": {
        "id": "NyHKxu0Llnzu"
      },
      "source": [
        "###Бэггинг с логической регрессией"
      ]
    },
    {
      "cell_type": "code",
      "metadata": {
        "id": "Rmf0EZ9Tl6lL"
      },
      "source": [
        "param_grid = {\n",
        "    'max_samples' : [0.05, 0.1, 0.2, 0.5],\n",
        "    'n_estimators': range(10, 20, 2)\n",
        "}\n",
        "modelBagging = BaggingClassifier(best_estimator_for_bagg_LR, random_state=seed)\n",
        "\n",
        "best_estimator = get_best_model(modelBagging, param_grid)"
      ],
      "execution_count": null,
      "outputs": []
    },
    {
      "cell_type": "code",
      "metadata": {
        "colab": {
          "base_uri": "https://localhost:8080/"
        },
        "id": "LUGupFfxm_9k",
        "outputId": "2e9d7cfd-a410-4e95-d0ce-f3e1428bd9cc"
      },
      "source": [
        "accuracy_score_model = get_accuracy_model(best_estimator)\n",
        "print_my_dict(accuracy_score_model)\n",
        "all_model.append(accuracy_score_model)\n"
      ],
      "execution_count": null,
      "outputs": [
        {
          "output_type": "stream",
          "text": [
            "BaggingClassifier\n",
            "train : 0.6577181208053692\n",
            "test : 0.6307692307692307\n"
          ],
          "name": "stdout"
        }
      ]
    },
    {
      "cell_type": "markdown",
      "metadata": {
        "id": "V7AuhQAfnfML"
      },
      "source": [
        "###Бэггинг с помощью метода ближайших соседей"
      ]
    },
    {
      "cell_type": "code",
      "metadata": {
        "colab": {
          "base_uri": "https://localhost:8080/"
        },
        "id": "pQQ1GF9v01af",
        "outputId": "eccc5bb4-8ef8-4300-c4e8-a1cd8b65dc8f"
      },
      "source": [
        "param_grid = {\n",
        "    'max_samples' : [0.05, 0.1, 0.2, 0.5],\n",
        "    'n_estimators': range(10, 100, 10)\n",
        "}\n",
        "\n",
        "modelBagging = BaggingClassifier(best_estimator_for_bagg_KNN, random_state=seed)\n",
        "\n",
        "best_estimator = get_best_model(modelBagging, param_grid)\n",
        "accuracy_score_model = get_accuracy_model(best_estimator)\n",
        "print_my_dict(accuracy_score_model)\n",
        "all_model.append(accuracy_score_model)\n"
      ],
      "execution_count": null,
      "outputs": [
        {
          "output_type": "stream",
          "text": [
            "BaggingClassifier\n",
            "train : 0.738255033557047\n",
            "test : 0.6923076923076923\n"
          ],
          "name": "stdout"
        }
      ]
    },
    {
      "cell_type": "markdown",
      "metadata": {
        "id": "RoShpcSjzUbi"
      },
      "source": [
        "#Проведите сравнительный анализ результатов базовых моделей между собой."
      ]
    },
    {
      "cell_type": "markdown",
      "metadata": {
        "id": "WTR6Uu-OAzFP"
      },
      "source": [
        "Возьмем ранее обученные модели и сравним результаты на тестовой выборке."
      ]
    },
    {
      "cell_type": "code",
      "metadata": {
        "colab": {
          "base_uri": "https://localhost:8080/",
          "height": 108
        },
        "id": "-d3m-oUO9qfd",
        "outputId": "951f03d1-5ab8-4ef0-a560-3ad2290c725a"
      },
      "source": [
        "df = pd.DataFrame.from_dict(base_model)\n",
        "df"
      ],
      "execution_count": null,
      "outputs": [
        {
          "output_type": "execute_result",
          "data": {
            "text/html": [
              "<div>\n",
              "<style scoped>\n",
              "    .dataframe tbody tr th:only-of-type {\n",
              "        vertical-align: middle;\n",
              "    }\n",
              "\n",
              "    .dataframe tbody tr th {\n",
              "        vertical-align: top;\n",
              "    }\n",
              "\n",
              "    .dataframe thead th {\n",
              "        text-align: right;\n",
              "    }\n",
              "</style>\n",
              "<table border=\"1\" class=\"dataframe\">\n",
              "  <thead>\n",
              "    <tr style=\"text-align: right;\">\n",
              "      <th></th>\n",
              "      <th>DecisionTreeClassifier</th>\n",
              "      <th>LogisticRegression</th>\n",
              "      <th>KNeighborsClassifier</th>\n",
              "      <th>SVC</th>\n",
              "    </tr>\n",
              "  </thead>\n",
              "  <tbody>\n",
              "    <tr>\n",
              "      <th>train</th>\n",
              "      <td>0.765101</td>\n",
              "      <td>0.684564</td>\n",
              "      <td>0.805369</td>\n",
              "      <td>0.778523</td>\n",
              "    </tr>\n",
              "    <tr>\n",
              "      <th>test</th>\n",
              "      <td>0.692308</td>\n",
              "      <td>0.661538</td>\n",
              "      <td>0.692308</td>\n",
              "      <td>0.753846</td>\n",
              "    </tr>\n",
              "  </tbody>\n",
              "</table>\n",
              "</div>"
            ],
            "text/plain": [
              "       DecisionTreeClassifier  ...       SVC\n",
              "train                0.765101  ...  0.778523\n",
              "test                 0.692308  ...  0.753846\n",
              "\n",
              "[2 rows x 4 columns]"
            ]
          },
          "metadata": {
            "tags": []
          },
          "execution_count": 63
        }
      ]
    },
    {
      "cell_type": "code",
      "metadata": {
        "colab": {
          "base_uri": "https://localhost:8080/",
          "height": 456
        },
        "id": "JqQqeVQL-nNN",
        "outputId": "88484dc8-c42f-42d9-d587-795958cc9080"
      },
      "source": [
        "plt.figure.figsize=(20,30)\n",
        "df.drop('train', axis=0).plot.bar(figsize=(15,7))"
      ],
      "execution_count": null,
      "outputs": [
        {
          "output_type": "execute_result",
          "data": {
            "text/plain": [
              "<matplotlib.axes._subplots.AxesSubplot at 0x7f59aca7a590>"
            ]
          },
          "metadata": {
            "tags": []
          },
          "execution_count": 64
        },
        {
          "output_type": "display_data",
          "data": {
            "image/png": "[encoded data removed]",
            "text/plain": [
              "<Figure size 1080x504 with 1 Axes>"
            ]
          },
          "metadata": {
            "tags": [],
            "needs_background": "light"
          }
        }
      ]
    },
    {
      "cell_type": "markdown",
      "metadata": {
        "id": "4Gk2zO29BRIT"
      },
      "source": [
        "Из базовых модели лучше всего себя показала модель DecisionTreeClassifier на тестовой выборке accuracy равно 0.72"
      ]
    },
    {
      "cell_type": "markdown",
      "metadata": {
        "id": "1r0HXnR2Bt04"
      },
      "source": [
        "#Проведите сравнительный анализ результатов композиции и базовых моделей между собой."
      ]
    },
    {
      "cell_type": "code",
      "metadata": {
        "id": "xIdrYaHfr3BA",
        "colab": {
          "base_uri": "https://localhost:8080/",
          "height": 78
        },
        "outputId": "30141012-d1ae-4375-cfb8-1acffba3f1d0"
      },
      "source": [
        "df_all_model = pd.DataFrame.from_dict(all_model_dict).drop('train', axis=0)\n",
        "df_all_model"
      ],
      "execution_count": null,
      "outputs": [
        {
          "output_type": "execute_result",
          "data": {
            "text/html": [
              "<div>\n",
              "<style scoped>\n",
              "    .dataframe tbody tr th:only-of-type {\n",
              "        vertical-align: middle;\n",
              "    }\n",
              "\n",
              "    .dataframe tbody tr th {\n",
              "        vertical-align: top;\n",
              "    }\n",
              "\n",
              "    .dataframe thead th {\n",
              "        text-align: right;\n",
              "    }\n",
              "</style>\n",
              "<table border=\"1\" class=\"dataframe\">\n",
              "  <thead>\n",
              "    <tr style=\"text-align: right;\">\n",
              "      <th></th>\n",
              "      <th>DecisionTreeClassifier</th>\n",
              "      <th>LogisticRegression</th>\n",
              "      <th>KNeighborsClassifier</th>\n",
              "      <th>SVC</th>\n",
              "      <th>RandomForestClassifier</th>\n",
              "      <th>LGBMClassifier</th>\n",
              "      <th>CatBoostClassifier</th>\n",
              "      <th>BaggingClassifier</th>\n",
              "    </tr>\n",
              "  </thead>\n",
              "  <tbody>\n",
              "    <tr>\n",
              "      <th>test</th>\n",
              "      <td>0.692308</td>\n",
              "      <td>0.661538</td>\n",
              "      <td>0.692308</td>\n",
              "      <td>0.753846</td>\n",
              "      <td>0.8</td>\n",
              "      <td>0.723077</td>\n",
              "      <td>0.830769</td>\n",
              "      <td>0.692308</td>\n",
              "    </tr>\n",
              "  </tbody>\n",
              "</table>\n",
              "</div>"
            ],
            "text/plain": [
              "      DecisionTreeClassifier  ...  BaggingClassifier\n",
              "test                0.692308  ...           0.692308\n",
              "\n",
              "[1 rows x 8 columns]"
            ]
          },
          "metadata": {
            "tags": []
          },
          "execution_count": 65
        }
      ]
    },
    {
      "cell_type": "code",
      "metadata": {
        "colab": {
          "base_uri": "https://localhost:8080/",
          "height": 456
        },
        "id": "5tOceRyvCAlQ",
        "outputId": "aa80330a-081b-474f-8d81-c2ca7f772ef4"
      },
      "source": [
        "df_all_model.plot.bar(figsize=(15,7))"
      ],
      "execution_count": null,
      "outputs": [
        {
          "output_type": "execute_result",
          "data": {
            "text/plain": [
              "<matplotlib.axes._subplots.AxesSubplot at 0x7f59ac2cfc50>"
            ]
          },
          "metadata": {
            "tags": []
          },
          "execution_count": 66
        },
        {
          "output_type": "display_data",
          "data": {
            "image/png": "[encoded data removed]",
            "text/plain": [
              "<Figure size 1080x504 with 1 Axes>"
            ]
          },
          "metadata": {
            "tags": [],
            "needs_background": "light"
          }
        }
      ]
    },
    {
      "cell_type": "code",
      "metadata": {
        "id": "ScnK_s4BC8x3"
      },
      "source": [
        "# При сравнение лучших мета и базовых моделей для данной выборки, было выявленно, что \n",
        "# CatBoostClassifier (0.83) показала себя лучшей для данного датасета. "
      ],
      "execution_count": null,
      "outputs": []
    }
  ]
}