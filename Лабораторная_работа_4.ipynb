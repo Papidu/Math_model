{
  "nbformat": 4,
  "nbformat_minor": 0,
  "metadata": {
    "anaconda-cloud": {},
    "kernelspec": {
      "display_name": "Python 3",
      "language": "python",
      "name": "python3"
    },
    "language_info": {
      "codemirror_mode": {
        "name": "ipython",
        "version": 3
      },
      "file_extension": ".py",
      "mimetype": "text/x-python",
      "name": "python",
      "nbconvert_exporter": "python",
      "pygments_lexer": "ipython3",
      "version": "3.7.0"
    },
    "colab": {
      "name": "Лабораторная работа № 4.ipynb",
      "provenance": []
    }
  },
  "cells": [
    {
      "cell_type": "markdown",
      "metadata": {
        "id": "XNYUqo5rZ6VV"
      },
      "source": [
        "# Лабораторная работа № 4\n",
        "## Линейная регрессия: переобучение и регуляризация"
      ]
    },
    {
      "cell_type": "markdown",
      "metadata": {
        "id": "7k5BpZ-6Z6VX"
      },
      "source": [
        "В этом задании мы на примерах увидим, как переобучаются линейные модели, разберем, почему так происходит, и выясним, как диагностировать и контролировать переобучение.\n",
        "\n",
        "Во всех ячейках, где написан комментарий с инструкциями, нужно написать код, выполняющий эти инструкции. Остальные ячейки с кодом (без комментариев) нужно просто выполнить. Кроме того, в задании требуется отвечать на вопросы; ответы нужно вписывать после выделенного слова \"__Ответ:__\".\n",
        "\n",
        "Напоминаем, что посмотреть справку любого метода или функции (узнать, какие у нее аргументы и что она делает) можно с помощью комбинации Shift+Tab. Нажатие Tab после имени объекта и точки позволяет посмотреть, какие методы и переменные есть у этого объекта."
      ]
    },
    {
      "cell_type": "code",
      "metadata": {
        "id": "wRUa9-C6Z6VY",
        "outputId": "9966a17c-0ce6-42d6-d27c-5629853cb4d4"
      },
      "source": [
        "import pandas as pd\n",
        "import numpy as np\n",
        "from matplotlib import pyplot as plt\n",
        "%matplotlib inline\n",
        "from sklearn import cross_validation\n"
      ],
      "execution_count": null,
      "outputs": [
        {
          "name": "stderr",
          "output_type": "stream",
          "text": [
            "C:\\Users\\123\\Anaconda3\\lib\\site-packages\\sklearn\\cross_validation.py:41: DeprecationWarning: This module was deprecated in version 0.18 in favor of the model_selection module into which all the refactored classes and functions are moved. Also note that the interface of the new CV iterators are different from that of this module. This module will be removed in 0.20.\n",
            "  \"This module will be removed in 0.20.\", DeprecationWarning)\n"
          ]
        }
      ]
    },
    {
      "cell_type": "markdown",
      "metadata": {
        "id": "R978jIHjZ6VZ"
      },
      "source": [
        "Мы будем работать с датасетом __\"bikes_rent.csv\"__, в котором по дням записаны календарная информация и погодные условия, характеризующие автоматизированные пункты проката велосипедов, а также число прокатов в этот день. Последнее мы будем предсказывать; таким образом, мы будем решать задачу регрессии."
      ]
    },
    {
      "cell_type": "markdown",
      "metadata": {
        "id": "LPPL10UzZ6Va"
      },
      "source": [
        "## Задание 1"
      ]
    },
    {
      "cell_type": "markdown",
      "metadata": {
        "id": "WKdpOAdSZ6Va"
      },
      "source": [
        "### Знакомство с данными"
      ]
    },
    {
      "cell_type": "markdown",
      "metadata": {
        "id": "2JoWXc7tZ6Va"
      },
      "source": [
        "Загрузите датасет с помощью функции __pandas.read_csv__ в переменную __df__. Выведите первые 5 строчек, чтобы убедиться в корректном считывании данных:"
      ]
    },
    {
      "cell_type": "code",
      "metadata": {
        "id": "-Z4APhfLZ6Va",
        "outputId": "6054d13f-db50-4258-8ae9-81583ce0072a"
      },
      "source": [
        "# Считайте данные и выведите первые 5 строк\n",
        "data = pd.read_csv(\"bikes_rent.csv\")\n",
        "data.head()\n"
      ],
      "execution_count": null,
      "outputs": [
        {
          "data": {
            "text/html": [
              "<div>\n",
              "<style scoped>\n",
              "    .dataframe tbody tr th:only-of-type {\n",
              "        vertical-align: middle;\n",
              "    }\n",
              "\n",
              "    .dataframe tbody tr th {\n",
              "        vertical-align: top;\n",
              "    }\n",
              "\n",
              "    .dataframe thead th {\n",
              "        text-align: right;\n",
              "    }\n",
              "</style>\n",
              "<table border=\"1\" class=\"dataframe\">\n",
              "  <thead>\n",
              "    <tr style=\"text-align: right;\">\n",
              "      <th></th>\n",
              "      <th>season</th>\n",
              "      <th>yr</th>\n",
              "      <th>mnth</th>\n",
              "      <th>holiday</th>\n",
              "      <th>weekday</th>\n",
              "      <th>workingday</th>\n",
              "      <th>weathersit</th>\n",
              "      <th>temp</th>\n",
              "      <th>atemp</th>\n",
              "      <th>hum</th>\n",
              "      <th>windspeed(mph)</th>\n",
              "      <th>windspeed(ms)</th>\n",
              "      <th>cnt</th>\n",
              "    </tr>\n",
              "  </thead>\n",
              "  <tbody>\n",
              "    <tr>\n",
              "      <th>0</th>\n",
              "      <td>1</td>\n",
              "      <td>0</td>\n",
              "      <td>1</td>\n",
              "      <td>0</td>\n",
              "      <td>6</td>\n",
              "      <td>0</td>\n",
              "      <td>2</td>\n",
              "      <td>14.110847</td>\n",
              "      <td>18.18125</td>\n",
              "      <td>80.5833</td>\n",
              "      <td>10.749882</td>\n",
              "      <td>4.805490</td>\n",
              "      <td>985</td>\n",
              "    </tr>\n",
              "    <tr>\n",
              "      <th>1</th>\n",
              "      <td>1</td>\n",
              "      <td>0</td>\n",
              "      <td>1</td>\n",
              "      <td>0</td>\n",
              "      <td>0</td>\n",
              "      <td>0</td>\n",
              "      <td>2</td>\n",
              "      <td>14.902598</td>\n",
              "      <td>17.68695</td>\n",
              "      <td>69.6087</td>\n",
              "      <td>16.652113</td>\n",
              "      <td>7.443949</td>\n",
              "      <td>801</td>\n",
              "    </tr>\n",
              "    <tr>\n",
              "      <th>2</th>\n",
              "      <td>1</td>\n",
              "      <td>0</td>\n",
              "      <td>1</td>\n",
              "      <td>0</td>\n",
              "      <td>1</td>\n",
              "      <td>1</td>\n",
              "      <td>1</td>\n",
              "      <td>8.050924</td>\n",
              "      <td>9.47025</td>\n",
              "      <td>43.7273</td>\n",
              "      <td>16.636703</td>\n",
              "      <td>7.437060</td>\n",
              "      <td>1349</td>\n",
              "    </tr>\n",
              "    <tr>\n",
              "      <th>3</th>\n",
              "      <td>1</td>\n",
              "      <td>0</td>\n",
              "      <td>1</td>\n",
              "      <td>0</td>\n",
              "      <td>2</td>\n",
              "      <td>1</td>\n",
              "      <td>1</td>\n",
              "      <td>8.200000</td>\n",
              "      <td>10.60610</td>\n",
              "      <td>59.0435</td>\n",
              "      <td>10.739832</td>\n",
              "      <td>4.800998</td>\n",
              "      <td>1562</td>\n",
              "    </tr>\n",
              "    <tr>\n",
              "      <th>4</th>\n",
              "      <td>1</td>\n",
              "      <td>0</td>\n",
              "      <td>1</td>\n",
              "      <td>0</td>\n",
              "      <td>3</td>\n",
              "      <td>1</td>\n",
              "      <td>1</td>\n",
              "      <td>9.305237</td>\n",
              "      <td>11.46350</td>\n",
              "      <td>43.6957</td>\n",
              "      <td>12.522300</td>\n",
              "      <td>5.597810</td>\n",
              "      <td>1600</td>\n",
              "    </tr>\n",
              "  </tbody>\n",
              "</table>\n",
              "</div>"
            ],
            "text/plain": [
              "   season  yr  mnth  holiday  weekday  workingday  weathersit       temp  \\\n",
              "0       1   0     1        0        6           0           2  14.110847   \n",
              "1       1   0     1        0        0           0           2  14.902598   \n",
              "2       1   0     1        0        1           1           1   8.050924   \n",
              "3       1   0     1        0        2           1           1   8.200000   \n",
              "4       1   0     1        0        3           1           1   9.305237   \n",
              "\n",
              "      atemp      hum  windspeed(mph)  windspeed(ms)   cnt  \n",
              "0  18.18125  80.5833       10.749882       4.805490   985  \n",
              "1  17.68695  69.6087       16.652113       7.443949   801  \n",
              "2   9.47025  43.7273       16.636703       7.437060  1349  \n",
              "3  10.60610  59.0435       10.739832       4.800998  1562  \n",
              "4  11.46350  43.6957       12.522300       5.597810  1600  "
            ]
          },
          "execution_count": 2,
          "metadata": {},
          "output_type": "execute_result"
        }
      ]
    },
    {
      "cell_type": "markdown",
      "metadata": {
        "id": "1MCxNalKZ6Vb"
      },
      "source": [
        "Для каждого дня проката известны следующие признаки (как они были указаны в источнике данных):\n",
        "* _season_: 1 - весна, 2 - лето, 3 - осень, 4 - зима\n",
        "* _yr_: 0 - 2011, 1 - 2012\n",
        "* _mnth_: от 1 до 12\n",
        "* _holiday_: 0 - нет праздника, 1 - есть праздник\n",
        "* _weekday_: от 0 до 6\n",
        "* _workingday_: 0 - нерабочий день, 1 - рабочий день\n",
        "* _weathersit_: оценка благоприятности погоды от 1 (чистый, ясный день) до 4 (ливень, туман)\n",
        "* _temp_: температура в Цельсиях\n",
        "* _atemp_: температура по ощущениям в Цельсиях\n",
        "* _hum_: влажность\n",
        "* _windspeed(mph)_: скорость ветра в милях в час\n",
        "* _windspeed(ms)_: скорость ветра в метрах в секунду\n",
        "* _cnt_: количество арендованных велосипедов (это целевой признак, его мы будем предсказывать)\n",
        "\n",
        "Итак, у нас есть вещественные, бинарные и номинальные (порядковые) признаки, и со всеми из них можно работать как с вещественными. С номинальныеми признаками тоже можно работать как с вещественными, потому что на них задан порядок. Давайте посмотрим на графиках, как целевой признак зависит от остальных"
      ]
    },
    {
      "cell_type": "code",
      "metadata": {
        "id": "0U9RRb8pZ6Vb"
      },
      "source": [
        "#fig, axes = plt.subplots(nrows=3, ncols=4, figsize=(15, 10))\n",
        "#for idx, feature in enumerate(data.columns[:-1]):\n",
        "#   data.plot(feature, \"cnt\", subplots=True, kind=\"scatter\", ax=axes[idx / 4, idx % 4])"
      ],
      "execution_count": null,
      "outputs": []
    },
    {
      "cell_type": "markdown",
      "metadata": {
        "id": "bqxEexcuZ6Vc"
      },
      "source": [
        "__Блок 1. Ответьте на вопросы:__\n",
        "1. Каков характер зависимости числа прокатов от месяца? \n",
        "   * ответ: с мая по октябрь прокатов больше\n",
        "1. Укажите один или два признака, от которых число прокатов скорее всего зависит линейно\n",
        "   * ответ:  weathersit, temp"
      ]
    },
    {
      "cell_type": "markdown",
      "metadata": {
        "id": "SlB28UjLZ6Vc"
      },
      "source": [
        "## Задание 2"
      ]
    },
    {
      "cell_type": "markdown",
      "metadata": {
        "id": "cTejGdWNZ6Vd"
      },
      "source": [
        "Давайте более строго оценим уровень линейной зависимости между признаками и целевой переменной. Хорошей мерой линейной зависимости между двумя векторами является корреляция Пирсона. В pandas ее можно посчитать с помощью двух методов датафрейма: corr и corrwith. Метод df.corr вычисляет матрицу корреляций всех признаков из датафрейма. Методу df.corrwith нужно подать еще один датафрейм в качестве аргумента, и тогда он посчитает попарные корреляции между признаками из df и этого датафрейма."
      ]
    },
    {
      "cell_type": "code",
      "metadata": {
        "id": "hIWqfSfMZ6Vd",
        "outputId": "01ec9947-3e2b-4a59-a47f-139ba633f12b"
      },
      "source": [
        "# Посчитайте корреляции всех признаков, кроме последнего, с последним с помощью метода corrwith:\n",
        "data[data.columns[:-1]].corrwith(data['cnt'])"
      ],
      "execution_count": null,
      "outputs": [
        {
          "data": {
            "text/plain": [
              "season            0.406100\n",
              "yr                0.566710\n",
              "mnth              0.279977\n",
              "holiday          -0.068348\n",
              "weekday           0.067443\n",
              "workingday        0.061156\n",
              "weathersit       -0.297391\n",
              "temp              0.627494\n",
              "atemp             0.631066\n",
              "hum              -0.100659\n",
              "windspeed(mph)   -0.234545\n",
              "windspeed(ms)    -0.234545\n",
              "dtype: float64"
            ]
          },
          "execution_count": 3,
          "metadata": {},
          "output_type": "execute_result"
        }
      ]
    },
    {
      "cell_type": "markdown",
      "metadata": {
        "id": "N7waS0a3Z6Vd"
      },
      "source": [
        "В выборке есть признаки, коррелирующие с целевым, а значит, задачу можно решать линейными методами."
      ]
    },
    {
      "cell_type": "markdown",
      "metadata": {
        "id": "g1ijMxScZ6Vd"
      },
      "source": [
        "По графикам видно, что некоторые признаки похожи друг на друга. Поэтому давайте также посчитаем корреляции между вещественными признаками."
      ]
    },
    {
      "cell_type": "code",
      "metadata": {
        "id": "6lAL2_ZTZ6Ve",
        "outputId": "3b32c0cf-a874-469a-adc9-f5fdd0cf8bd8"
      },
      "source": [
        "# Посчитайте попарные корреляции между признаками temp, atemp, hum, windspeed(mph), windspeed(ms) и cnt\n",
        "# с помощью метода corr:\n",
        "data[['temp','atemp', 'hum', 'windspeed(mph)','windspeed(mph)']].corr()\n"
      ],
      "execution_count": null,
      "outputs": [
        {
          "data": {
            "text/html": [
              "<div>\n",
              "<style scoped>\n",
              "    .dataframe tbody tr th:only-of-type {\n",
              "        vertical-align: middle;\n",
              "    }\n",
              "\n",
              "    .dataframe tbody tr th {\n",
              "        vertical-align: top;\n",
              "    }\n",
              "\n",
              "    .dataframe thead th {\n",
              "        text-align: right;\n",
              "    }\n",
              "</style>\n",
              "<table border=\"1\" class=\"dataframe\">\n",
              "  <thead>\n",
              "    <tr style=\"text-align: right;\">\n",
              "      <th></th>\n",
              "      <th>temp</th>\n",
              "      <th>atemp</th>\n",
              "      <th>hum</th>\n",
              "      <th>windspeed(mph)</th>\n",
              "      <th>windspeed(mph)</th>\n",
              "    </tr>\n",
              "  </thead>\n",
              "  <tbody>\n",
              "    <tr>\n",
              "      <th>temp</th>\n",
              "      <td>1.000000</td>\n",
              "      <td>0.991702</td>\n",
              "      <td>0.126963</td>\n",
              "      <td>-0.157944</td>\n",
              "      <td>-0.157944</td>\n",
              "    </tr>\n",
              "    <tr>\n",
              "      <th>atemp</th>\n",
              "      <td>0.991702</td>\n",
              "      <td>1.000000</td>\n",
              "      <td>0.139988</td>\n",
              "      <td>-0.183643</td>\n",
              "      <td>-0.183643</td>\n",
              "    </tr>\n",
              "    <tr>\n",
              "      <th>hum</th>\n",
              "      <td>0.126963</td>\n",
              "      <td>0.139988</td>\n",
              "      <td>1.000000</td>\n",
              "      <td>-0.248489</td>\n",
              "      <td>-0.248489</td>\n",
              "    </tr>\n",
              "    <tr>\n",
              "      <th>windspeed(mph)</th>\n",
              "      <td>-0.157944</td>\n",
              "      <td>-0.183643</td>\n",
              "      <td>-0.248489</td>\n",
              "      <td>1.000000</td>\n",
              "      <td>1.000000</td>\n",
              "    </tr>\n",
              "    <tr>\n",
              "      <th>windspeed(mph)</th>\n",
              "      <td>-0.157944</td>\n",
              "      <td>-0.183643</td>\n",
              "      <td>-0.248489</td>\n",
              "      <td>1.000000</td>\n",
              "      <td>1.000000</td>\n",
              "    </tr>\n",
              "  </tbody>\n",
              "</table>\n",
              "</div>"
            ],
            "text/plain": [
              "                    temp     atemp       hum  windspeed(mph)  windspeed(mph)\n",
              "temp            1.000000  0.991702  0.126963       -0.157944       -0.157944\n",
              "atemp           0.991702  1.000000  0.139988       -0.183643       -0.183643\n",
              "hum             0.126963  0.139988  1.000000       -0.248489       -0.248489\n",
              "windspeed(mph) -0.157944 -0.183643 -0.248489        1.000000        1.000000\n",
              "windspeed(mph) -0.157944 -0.183643 -0.248489        1.000000        1.000000"
            ]
          },
          "execution_count": 4,
          "metadata": {},
          "output_type": "execute_result"
        }
      ]
    },
    {
      "cell_type": "markdown",
      "metadata": {
        "id": "XCDzJHn5Z6Ve"
      },
      "source": [
        "На диагоналях, как и полагается, стоят единицы. Однако в матрице имеются еще две пары сильно коррелирующих столбцов: temp и atemp (коррелируют по своей природе) и два windspeed (потому что это просто перевод одних единиц в другие). Далее мы увидим, что этот факт негативно сказывается на обучении линейной модели."
      ]
    },
    {
      "cell_type": "markdown",
      "metadata": {
        "id": "agAyUPghZ6Ve"
      },
      "source": [
        "Напоследок посмотрим средние признаков (метод mean), чтобы оценить масштаб признаков и доли 1 у бинарных признаков."
      ]
    },
    {
      "cell_type": "code",
      "metadata": {
        "id": "J1-gNdWUZ6Ve",
        "outputId": "5431ef16-00f3-4dfc-a859-f2755dc074fe"
      },
      "source": [
        "# Выведите средние признаков\n",
        "data.mean()"
      ],
      "execution_count": null,
      "outputs": [
        {
          "data": {
            "text/plain": [
              "season               2.496580\n",
              "yr                   0.500684\n",
              "mnth                 6.519836\n",
              "holiday              0.028728\n",
              "weekday              2.997264\n",
              "workingday           0.683995\n",
              "weathersit           1.395349\n",
              "temp                20.310776\n",
              "atemp               23.717699\n",
              "hum                 62.789406\n",
              "windspeed(mph)      12.762576\n",
              "windspeed(ms)        5.705220\n",
              "cnt               4504.348837\n",
              "dtype: float64"
            ]
          },
          "execution_count": 5,
          "metadata": {},
          "output_type": "execute_result"
        }
      ]
    },
    {
      "cell_type": "markdown",
      "metadata": {
        "id": "UeuJeC3QZ6Vf"
      },
      "source": [
        "Признаки имеют разный масштаб, значит для дальнейшей работы нам лучше нормировать матрицу объекты-признаки."
      ]
    },
    {
      "cell_type": "markdown",
      "metadata": {
        "id": "BYLFev5oZ6Vf"
      },
      "source": [
        "### Проблема: коллинеарные признаки"
      ]
    },
    {
      "cell_type": "markdown",
      "metadata": {
        "id": "9ZhC-NPLZ6Vf"
      },
      "source": [
        "Итак, в наших данных один признак дублирует другой, и есть еще два очень похожих. Конечно, мы могли бы сразу удалить дубликаты, но давайте посмотрим, как бы происходило обучение модели, если бы мы не заметили эту проблему. \n",
        "\n",
        "Для начала проведем масштабирование, или стандартизацию признаков: из каждого признака вычтем его среднее и поделим на стандартное отклонение. Это можно сделать с помощью метода scale.\n",
        "\n",
        "Кроме того, нужно перемешать выборку, это потребуется для кросс-валидации."
      ]
    },
    {
      "cell_type": "code",
      "metadata": {
        "id": "gFqbqlVuZ6Vf"
      },
      "source": [
        "from sklearn.preprocessing import scale\n",
        "from sklearn.utils import shuffle"
      ],
      "execution_count": null,
      "outputs": []
    },
    {
      "cell_type": "code",
      "metadata": {
        "id": "hhMkXoKKZ6Vf"
      },
      "source": [
        "df_shuffled = shuffle(data, random_state=123)\n",
        "X = scale(df_shuffled[df_shuffled.columns[:-1]])#остальные данные\n",
        "y = df_shuffled[\"cnt\"]#число прокатов в день\n"
      ],
      "execution_count": null,
      "outputs": []
    },
    {
      "cell_type": "markdown",
      "metadata": {
        "id": "uDK4inclZ6Vf"
      },
      "source": [
        "## Задание 3"
      ]
    },
    {
      "cell_type": "markdown",
      "metadata": {
        "id": "tik42OriZ6Vg"
      },
      "source": [
        "Давайте обучим линейную регрессию на наших данных и посмотрим на веса признаков."
      ]
    },
    {
      "cell_type": "code",
      "metadata": {
        "id": "vBPRlt-WZ6Vg"
      },
      "source": [
        "from sklearn.linear_model import LinearRegression"
      ],
      "execution_count": null,
      "outputs": []
    },
    {
      "cell_type": "code",
      "metadata": {
        "id": "TWoxngzwZ6Vg",
        "outputId": "befc858f-fbea-4c09-9264-b92051db2772"
      },
      "source": [
        "# Создайте объект линейного регрессора, обучите его на всех данных и выведите веса модели \n",
        "# (веса хранятся в переменной coef_ класса регрессора).\n",
        "# Можно выводить пары (название признака, вес), воспользовавшись функцией zip, встроенной в язык python\n",
        "# Названия признаков хранятся в переменной df.columns\n",
        "lin_reg = LinearRegression()\n",
        "lin_reg.fit(X, y)\n",
        "weights = zip(df_shuffled.columns[:-1], lin_reg.coef_)\n",
        "for w in weights:\n",
        "    print(\"%s:\\t\\t%.3f\" % (w[0], w[1]))                                                      "
      ],
      "execution_count": null,
      "outputs": [
        {
          "name": "stdout",
          "output_type": "stream",
          "text": [
            "season:\t\t570.868\n",
            "yr:\t\t1021.964\n",
            "mnth:\t\t-141.302\n",
            "holiday:\t\t-86.764\n",
            "weekday:\t\t137.229\n",
            "workingday:\t\t56.388\n",
            "weathersit:\t\t-330.232\n",
            "temp:\t\t367.475\n",
            "atemp:\t\t585.556\n",
            "hum:\t\t-145.608\n",
            "windspeed(mph):\t\t12458830091266.607\n",
            "windspeed(ms):\t\t-12458830091465.062\n"
          ]
        }
      ]
    },
    {
      "cell_type": "markdown",
      "metadata": {
        "id": "98h8EGoFZ6Vg"
      },
      "source": [
        "Мы видим, что веса при линейно-зависимых признаках по модулю значительно больше, чем при других признаках."
      ]
    },
    {
      "cell_type": "markdown",
      "metadata": {
        "id": "kMFy2mH4Z6Vh"
      },
      "source": [
        "Чтобы понять, почему так произошло, вспомним аналитическую формулу, по которой вычисляются веса линейной модели в методе наименьших квадратов:\n",
        "\n",
        "$w = (X^TX)^{-1} X^T y$.\n",
        "\n",
        "Если в X есть коллинеарные (линейно-зависимые) столбцы, матрица $X^TX$ становится вырожденной, и формула перестает быть корректной. Чем более зависимы признаки, тем меньше определитель этой матрицы и тем хуже аппроксимация $Xw \\approx y$. Такая ситуацию называют _проблемой мультиколлинеарности_, вы обсуждали ее на лекции."
      ]
    },
    {
      "cell_type": "markdown",
      "metadata": {
        "id": "jarS86nEZ6Vh"
      },
      "source": [
        "С парой temp-atemp чуть менее коррелирующих переменных такого не произошло, однако на практике всегда стоит внимательно следить за коэффициентами при похожих признаках."
      ]
    },
    {
      "cell_type": "markdown",
      "metadata": {
        "id": "wVab_l4_Z6Vh"
      },
      "source": [
        "__Решение__ проблемы мультиколлинеарности состоит в _регуляризации_ линейной модели. К оптимизируемому функционалу прибавляют L1 или L2 норму весов, умноженную на коэффициент регуляризации $\\alpha$. В первом случае метод называется Lasso, а во втором --- Ridge. "
      ]
    },
    {
      "cell_type": "markdown",
      "metadata": {
        "id": "al2wHCjjZ6Vh"
      },
      "source": [
        "## Задание 4"
      ]
    },
    {
      "cell_type": "markdown",
      "metadata": {
        "id": "BIFa0LiDZ6Vh"
      },
      "source": [
        "Обучите регрессоры Ridge и Lasso с параметрами по умолчанию и убедитесь, что проблема с весами решилась."
      ]
    },
    {
      "cell_type": "code",
      "metadata": {
        "id": "Bv5XvK5vZ6Vh"
      },
      "source": [
        "from sklearn.linear_model import Lasso, Ridge"
      ],
      "execution_count": null,
      "outputs": []
    },
    {
      "cell_type": "code",
      "metadata": {
        "id": "_YE1vZNVZ6Vh",
        "outputId": "e48b41f8-046b-49de-ce3f-c38c694e3265"
      },
      "source": [
        "# Обучите линейную модель с L1-регуляризацией и выведите веса\n",
        "lasso_reg = Lasso()\n",
        "lasso_reg.fit(X, y)\n",
        "weights = zip(df_shuffled.columns[:-1], lasso_reg.coef_)\n",
        "for w in weights:\n",
        "    print(\"%s:\\t\\t%.3f\" % (w[0], w[1]))\n"
      ],
      "execution_count": null,
      "outputs": [
        {
          "name": "stdout",
          "output_type": "stream",
          "text": [
            "season:\t\t560.242\n",
            "yr:\t\t1019.463\n",
            "mnth:\t\t-128.731\n",
            "holiday:\t\t-86.153\n",
            "weekday:\t\t137.348\n",
            "workingday:\t\t55.212\n",
            "weathersit:\t\t-332.370\n",
            "temp:\t\t376.363\n",
            "atemp:\t\t576.531\n",
            "hum:\t\t-144.129\n",
            "windspeed(mph):\t\t-197.140\n",
            "windspeed(ms):\t\t-0.000\n"
          ]
        }
      ]
    },
    {
      "cell_type": "code",
      "metadata": {
        "id": "RwJEYCIUZ6Vi",
        "outputId": "a463f627-d494-41c3-da8e-e2f9ad1130c3"
      },
      "source": [
        "# Обучите линейную модель с L2-регуляризацией и выведите веса\n",
        "ridge_reg = Ridge()\n",
        "ridge_reg.fit(X, y)\n",
        "weights = zip(df_shuffled.columns[:-1], ridge_reg.coef_)\n",
        "for w in weights:\n",
        "    print(\"%s:\\t\\t%.3f\" % (w[0], w[1]))"
      ],
      "execution_count": null,
      "outputs": [
        {
          "name": "stdout",
          "output_type": "stream",
          "text": [
            "season:\t\t563.065\n",
            "yr:\t\t1018.948\n",
            "mnth:\t\t-131.873\n",
            "holiday:\t\t-86.746\n",
            "weekday:\t\t138.005\n",
            "workingday:\t\t55.903\n",
            "weathersit:\t\t-332.350\n",
            "temp:\t\t386.458\n",
            "atemp:\t\t566.347\n",
            "hum:\t\t-145.071\n",
            "windspeed(mph):\t\t-99.259\n",
            "windspeed(ms):\t\t-99.259\n"
          ]
        }
      ]
    },
    {
      "cell_type": "markdown",
      "metadata": {
        "id": "ZveiVSglZ6Vi"
      },
      "source": [
        "## Задание 5"
      ]
    },
    {
      "cell_type": "markdown",
      "metadata": {
        "id": "n3ti-6J_Z6Vi"
      },
      "source": [
        "Получите предсказания значений на регрессорах Lasso и Ridge, используя сначала тестовую, а затем обучающую часть выборки. "
      ]
    },
    {
      "cell_type": "code",
      "metadata": {
        "id": "Q57pAKFlZ6Vi"
      },
      "source": [
        "# Ваш код здесь\n",
        "from sklearn import metrics\n",
        "X_train = X[:364]\n",
        "Y_train = y[:364]\n",
        "\n",
        "X_test = X[364:]\n",
        "Y_test = y[364:]"
      ],
      "execution_count": null,
      "outputs": []
    },
    {
      "cell_type": "code",
      "metadata": {
        "id": "W-az1delZ6Vi"
      },
      "source": [
        "pred_train_lasso = lasso_reg.predict(X_train)\n",
        "pred_test_lasso = lasso_reg.predict(X_test)\n"
      ],
      "execution_count": null,
      "outputs": []
    },
    {
      "cell_type": "code",
      "metadata": {
        "id": "eSsdaJh0Z6Vj"
      },
      "source": [
        "m_r2_train =metrics.r2_score(Y_train, pred_train_lasso)\n",
        "m_r2_test = metrics.r2_score(Y_test, pred_test_lasso)"
      ],
      "execution_count": null,
      "outputs": []
    },
    {
      "cell_type": "markdown",
      "metadata": {
        "id": "rD2p1bsfZ6Vj"
      },
      "source": [
        "Оцените качество полученных моделей по R2"
      ]
    },
    {
      "cell_type": "code",
      "metadata": {
        "id": "gO8wx0ADZ6Vj",
        "outputId": "e63ad669-7360-402a-8bbd-567710c091fa"
      },
      "source": [
        "print('R2 для Lasso(train) (чем ближе к 1 тем лучше): {}'.format(m_r2_train))\n",
        "print('R2 для Lasso(test) (чем ближе к 1 тем лучше): {}'.format(m_r2_test))\n"
      ],
      "execution_count": null,
      "outputs": [
        {
          "name": "stdout",
          "output_type": "stream",
          "text": [
            "R2 для Lasso(train) (чем ближе к 1 тем лучше): 0.7675812918969142\n",
            "R2 для Lasso(test) (чем ближе к 1 тем лучше): 0.8140140293068318\n"
          ]
        }
      ]
    },
    {
      "cell_type": "code",
      "metadata": {
        "id": "PQoE6fhXZ6Vj"
      },
      "source": [
        "pred_train_ridge = ridge_reg.predict(X_train)\n",
        "pred_test_ridge = ridge_reg.predict(X_test)"
      ],
      "execution_count": null,
      "outputs": []
    },
    {
      "cell_type": "code",
      "metadata": {
        "id": "-S2PYj0mZ6Vj"
      },
      "source": [
        "m_r2_train = metrics.r2_score(Y_train, pred_train_ridge)\n",
        "m_r2_test = metrics.r2_score(Y_test, pred_test_ridge)"
      ],
      "execution_count": null,
      "outputs": []
    },
    {
      "cell_type": "code",
      "metadata": {
        "id": "NWcY2S4gZ6Vk",
        "outputId": "17ae9f86-f82f-4277-915d-65b4a3ca479b"
      },
      "source": [
        "# Ваш код здесь\n",
        "print('R2 для Ridge(train) (чем ближе к 1 тем лучше): {}'.format(m_r2_train))\n",
        "print('R2 для Ridge(test) (чем ближе к 1 тем лучше): {}'.format(m_r2_test))\n"
      ],
      "execution_count": null,
      "outputs": [
        {
          "name": "stdout",
          "output_type": "stream",
          "text": [
            "R2 для Ridge(train) (чем ближе к 1 тем лучше): 0.7686992170264281\n",
            "R2 для Ridge(test) (чем ближе к 1 тем лучше): 0.8248292013170122\n"
          ]
        }
      ]
    },
    {
      "cell_type": "markdown",
      "metadata": {
        "id": "NgkhS9jEZ6Vk"
      },
      "source": [
        "Сделайте выводы о переобучении модели"
      ]
    },
    {
      "cell_type": "code",
      "metadata": {
        "id": "DWFHOse0Z6Vk"
      },
      "source": [
        "# Ваши выводы"
      ],
      "execution_count": null,
      "outputs": []
    },
    {
      "cell_type": "markdown",
      "metadata": {
        "id": "41cZ6DZJZ6Vk"
      },
      "source": [
        "Разница оценок в тестовой/обучающей выборке незначительна, что говорит об отсутствии переобучения"
      ]
    }
  ]
}