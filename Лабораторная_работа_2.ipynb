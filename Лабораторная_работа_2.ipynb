{
  "nbformat": 4,
  "nbformat_minor": 0,
  "metadata": {
    "colab": {
      "name": "Лабораторная работа 2 Подпрятов В. А. .ipynb",
      "provenance": []
    },
    "kernelspec": {
      "display_name": "Python 3",
      "language": "python",
      "name": "python3"
    },
    "language_info": {
      "codemirror_mode": {
        "name": "ipython",
        "version": 3
      },
      "file_extension": ".py",
      "mimetype": "text/x-python",
      "name": "python",
      "nbconvert_exporter": "python",
      "pygments_lexer": "ipython3",
      "version": "3.8.3"
    }
  },
  "cells": [
    {
      "cell_type": "markdown",
      "metadata": {
        "collapsed": true,
        "id": "B11hd4Eg6lXj"
      },
      "source": [
        "## Лабораторная работа 2 \n",
        "# \"Выявление корреляций в выборке\""
      ]
    },
    {
      "cell_type": "markdown",
      "metadata": {
        "id": "utL2c20o6lXj"
      },
      "source": [
        "В этой работе рассматриваются данные о клиентах банка. В них указаны возраст клиентов, пол, образование, доход и есть целевая переменная - вернул ли клиент кредит.\n",
        "На основе этих данных мы выясним какие из показателей влияют на вероятность того, что клиент не вернет кредит\n",
        "Для начала зарузим библиотеки, необходимые в работе.\n",
        "Обратите особое внимание на библиотеку skipy.stats. Она нужна для работы с распределениями"
      ]
    },
    {
      "cell_type": "code",
      "metadata": {
        "id": "s8x9cU916lXj"
      },
      "source": [
        "import pandas as pd\n",
        "from matplotlib import pyplot as plt\n",
        "import numpy as np\n",
        "from scipy import stats # в этой библиотеке хранятся функции для работы с распределениями\n",
        "import scipy\n",
        "%matplotlib inline\n"
      ],
      "execution_count": null,
      "outputs": []
    },
    {
      "cell_type": "code",
      "metadata": {
        "colab": {
          "base_uri": "https://localhost:8080/"
        },
        "id": "cDRohQEtFwCJ",
        "outputId": "49fd70ab-74dd-49d3-fac7-d37a6858e627"
      },
      "source": [
        "from google.colab import drive\n",
        "drive.mount('/content/drive/')"
      ],
      "execution_count": null,
      "outputs": [
        {
          "output_type": "stream",
          "text": [
            "Drive already mounted at /content/drive/; to attempt to forcibly remount, call drive.mount(\"/content/drive/\", force_remount=True).\n"
          ],
          "name": "stdout"
        }
      ]
    },
    {
      "cell_type": "code",
      "metadata": {
        "colab": {
          "base_uri": "https://localhost:8080/",
          "height": 215
        },
        "id": "caaP8gh16lXk",
        "outputId": "936b8496-004d-49d6-f62f-49d39492dcdf"
      },
      "source": [
        "#считаем данные и посмотрим на них\n",
        "data = pd.read_csv('/content/drive/MyDrive/Math_Model/credit_card_default_analysis.csv')\n",
        "data.head()"
      ],
      "execution_count": null,
      "outputs": [
        {
          "output_type": "execute_result",
          "data": {
            "text/html": [
              "<div>\n",
              "<style scoped>\n",
              "    .dataframe tbody tr th:only-of-type {\n",
              "        vertical-align: middle;\n",
              "    }\n",
              "\n",
              "    .dataframe tbody tr th {\n",
              "        vertical-align: top;\n",
              "    }\n",
              "\n",
              "    .dataframe thead th {\n",
              "        text-align: right;\n",
              "    }\n",
              "</style>\n",
              "<table border=\"1\" class=\"dataframe\">\n",
              "  <thead>\n",
              "    <tr style=\"text-align: right;\">\n",
              "      <th></th>\n",
              "      <th>ID</th>\n",
              "      <th>LIMIT_BAL</th>\n",
              "      <th>SEX</th>\n",
              "      <th>EDUCATION</th>\n",
              "      <th>MARRIAGE</th>\n",
              "      <th>AGE</th>\n",
              "      <th>PAY_0</th>\n",
              "      <th>PAY_2</th>\n",
              "      <th>PAY_3</th>\n",
              "      <th>PAY_4</th>\n",
              "      <th>PAY_5</th>\n",
              "      <th>PAY_6</th>\n",
              "      <th>BILL_AMT1</th>\n",
              "      <th>BILL_AMT2</th>\n",
              "      <th>BILL_AMT3</th>\n",
              "      <th>BILL_AMT4</th>\n",
              "      <th>BILL_AMT5</th>\n",
              "      <th>BILL_AMT6</th>\n",
              "      <th>PAY_AMT1</th>\n",
              "      <th>PAY_AMT2</th>\n",
              "      <th>PAY_AMT3</th>\n",
              "      <th>PAY_AMT4</th>\n",
              "      <th>PAY_AMT5</th>\n",
              "      <th>PAY_AMT6</th>\n",
              "      <th>default</th>\n",
              "    </tr>\n",
              "  </thead>\n",
              "  <tbody>\n",
              "    <tr>\n",
              "      <th>0</th>\n",
              "      <td>1</td>\n",
              "      <td>20000</td>\n",
              "      <td>2</td>\n",
              "      <td>2</td>\n",
              "      <td>1</td>\n",
              "      <td>24</td>\n",
              "      <td>2</td>\n",
              "      <td>2</td>\n",
              "      <td>0</td>\n",
              "      <td>0</td>\n",
              "      <td>0</td>\n",
              "      <td>0</td>\n",
              "      <td>3913</td>\n",
              "      <td>3102</td>\n",
              "      <td>689</td>\n",
              "      <td>0</td>\n",
              "      <td>0</td>\n",
              "      <td>0</td>\n",
              "      <td>0</td>\n",
              "      <td>689</td>\n",
              "      <td>0</td>\n",
              "      <td>0</td>\n",
              "      <td>0</td>\n",
              "      <td>0</td>\n",
              "      <td>1</td>\n",
              "    </tr>\n",
              "    <tr>\n",
              "      <th>1</th>\n",
              "      <td>2</td>\n",
              "      <td>120000</td>\n",
              "      <td>2</td>\n",
              "      <td>2</td>\n",
              "      <td>2</td>\n",
              "      <td>26</td>\n",
              "      <td>0</td>\n",
              "      <td>2</td>\n",
              "      <td>0</td>\n",
              "      <td>0</td>\n",
              "      <td>0</td>\n",
              "      <td>2</td>\n",
              "      <td>2682</td>\n",
              "      <td>1725</td>\n",
              "      <td>2682</td>\n",
              "      <td>3272</td>\n",
              "      <td>3455</td>\n",
              "      <td>3261</td>\n",
              "      <td>0</td>\n",
              "      <td>1000</td>\n",
              "      <td>1000</td>\n",
              "      <td>1000</td>\n",
              "      <td>0</td>\n",
              "      <td>2000</td>\n",
              "      <td>1</td>\n",
              "    </tr>\n",
              "    <tr>\n",
              "      <th>2</th>\n",
              "      <td>3</td>\n",
              "      <td>90000</td>\n",
              "      <td>2</td>\n",
              "      <td>2</td>\n",
              "      <td>2</td>\n",
              "      <td>34</td>\n",
              "      <td>0</td>\n",
              "      <td>0</td>\n",
              "      <td>0</td>\n",
              "      <td>0</td>\n",
              "      <td>0</td>\n",
              "      <td>0</td>\n",
              "      <td>29239</td>\n",
              "      <td>14027</td>\n",
              "      <td>13559</td>\n",
              "      <td>14331</td>\n",
              "      <td>14948</td>\n",
              "      <td>15549</td>\n",
              "      <td>1518</td>\n",
              "      <td>1500</td>\n",
              "      <td>1000</td>\n",
              "      <td>1000</td>\n",
              "      <td>1000</td>\n",
              "      <td>5000</td>\n",
              "      <td>0</td>\n",
              "    </tr>\n",
              "    <tr>\n",
              "      <th>3</th>\n",
              "      <td>4</td>\n",
              "      <td>50000</td>\n",
              "      <td>2</td>\n",
              "      <td>2</td>\n",
              "      <td>1</td>\n",
              "      <td>37</td>\n",
              "      <td>0</td>\n",
              "      <td>0</td>\n",
              "      <td>0</td>\n",
              "      <td>0</td>\n",
              "      <td>0</td>\n",
              "      <td>0</td>\n",
              "      <td>46990</td>\n",
              "      <td>48233</td>\n",
              "      <td>49291</td>\n",
              "      <td>28314</td>\n",
              "      <td>28959</td>\n",
              "      <td>29547</td>\n",
              "      <td>2000</td>\n",
              "      <td>2019</td>\n",
              "      <td>1200</td>\n",
              "      <td>1100</td>\n",
              "      <td>1069</td>\n",
              "      <td>1000</td>\n",
              "      <td>0</td>\n",
              "    </tr>\n",
              "    <tr>\n",
              "      <th>4</th>\n",
              "      <td>5</td>\n",
              "      <td>50000</td>\n",
              "      <td>1</td>\n",
              "      <td>2</td>\n",
              "      <td>1</td>\n",
              "      <td>57</td>\n",
              "      <td>0</td>\n",
              "      <td>0</td>\n",
              "      <td>0</td>\n",
              "      <td>0</td>\n",
              "      <td>0</td>\n",
              "      <td>0</td>\n",
              "      <td>8617</td>\n",
              "      <td>5670</td>\n",
              "      <td>35835</td>\n",
              "      <td>20940</td>\n",
              "      <td>19146</td>\n",
              "      <td>19131</td>\n",
              "      <td>2000</td>\n",
              "      <td>36681</td>\n",
              "      <td>10000</td>\n",
              "      <td>9000</td>\n",
              "      <td>689</td>\n",
              "      <td>679</td>\n",
              "      <td>0</td>\n",
              "    </tr>\n",
              "  </tbody>\n",
              "</table>\n",
              "</div>"
            ],
            "text/plain": [
              "   ID  LIMIT_BAL  SEX  EDUCATION  ...  PAY_AMT4  PAY_AMT5  PAY_AMT6  default\n",
              "0   1      20000    2          2  ...         0         0         0        1\n",
              "1   2     120000    2          2  ...      1000         0      2000        1\n",
              "2   3      90000    2          2  ...      1000      1000      5000        0\n",
              "3   4      50000    2          2  ...      1100      1069      1000        0\n",
              "4   5      50000    1          2  ...      9000       689       679        0\n",
              "\n",
              "[5 rows x 25 columns]"
            ]
          },
          "metadata": {
            "tags": []
          },
          "execution_count": 32
        }
      ]
    },
    {
      "cell_type": "code",
      "metadata": {
        "colab": {
          "base_uri": "https://localhost:8080/"
        },
        "id": "wL-vvSMI6lXk",
        "outputId": "c764eb9f-4799-4489-9333-593da41f99cc"
      },
      "source": [
        "#посмотрим на объем выборки в целом\n",
        "data.shape"
      ],
      "execution_count": null,
      "outputs": [
        {
          "output_type": "execute_result",
          "data": {
            "text/plain": [
              "(30000, 25)"
            ]
          },
          "metadata": {
            "tags": []
          },
          "execution_count": 33
        }
      ]
    },
    {
      "cell_type": "code",
      "metadata": {
        "colab": {
          "base_uri": "https://localhost:8080/"
        },
        "id": "1boq4ALc6lXl",
        "outputId": "2d04f330-81d1-499a-cd8d-f449dacfba8b"
      },
      "source": [
        "#посмотрим на объем выборки по отданным и не отданным кредитам\n",
        "data.default.value_counts()"
      ],
      "execution_count": null,
      "outputs": [
        {
          "output_type": "execute_result",
          "data": {
            "text/plain": [
              "0    23364\n",
              "1     6636\n",
              "Name: default, dtype: int64"
            ]
          },
          "metadata": {
            "tags": []
          },
          "execution_count": 34
        }
      ]
    },
    {
      "cell_type": "markdown",
      "metadata": {
        "id": "d3Z92a8L6lXl"
      },
      "source": [
        "Явно выборки по признаку default не сбалансированы"
      ]
    },
    {
      "cell_type": "code",
      "metadata": {
        "id": "xko-YiXM6lXl"
      },
      "source": [
        "def permutation_t_stat_ind(sample1, sample2):\n",
        "    return np.mean(sample1) - np.mean(sample2)"
      ],
      "execution_count": null,
      "outputs": []
    },
    {
      "cell_type": "markdown",
      "metadata": {
        "id": "faIccDiv6lXl"
      },
      "source": [
        "## Задание 1"
      ]
    },
    {
      "cell_type": "markdown",
      "metadata": {
        "id": "tRa6jKGd6lXl"
      },
      "source": [
        "Разделите выборку на 2 группы по признаку вернули кредит или нет."
      ]
    },
    {
      "cell_type": "code",
      "metadata": {
        "colab": {
          "base_uri": "https://localhost:8080/",
          "height": 482
        },
        "id": "YZZ2YEwG6lXl",
        "outputId": "47d904a9-82ba-4bba-eedc-3839bfbef969"
      },
      "source": [
        "# Ваш код здесь\n",
        "x = data[data.default == 0] \n",
        "y = data[data.default == 1] \n",
        "print(\"Первые 5 строк с теме кто вернул кредит\", x.shape)\n",
        "display(x.head())\n",
        "print(\"\\n\\n\\nПервые 5 строк с теме кто не вернул кредит\", y.shape)\n",
        "display(y.head())"
      ],
      "execution_count": null,
      "outputs": [
        {
          "output_type": "stream",
          "text": [
            "Первые 5 строк с теме кто вернул кредит (23364, 25)\n"
          ],
          "name": "stdout"
        },
        {
          "output_type": "display_data",
          "data": {
            "text/html": [
              "<div>\n",
              "<style scoped>\n",
              "    .dataframe tbody tr th:only-of-type {\n",
              "        vertical-align: middle;\n",
              "    }\n",
              "\n",
              "    .dataframe tbody tr th {\n",
              "        vertical-align: top;\n",
              "    }\n",
              "\n",
              "    .dataframe thead th {\n",
              "        text-align: right;\n",
              "    }\n",
              "</style>\n",
              "<table border=\"1\" class=\"dataframe\">\n",
              "  <thead>\n",
              "    <tr style=\"text-align: right;\">\n",
              "      <th></th>\n",
              "      <th>ID</th>\n",
              "      <th>LIMIT_BAL</th>\n",
              "      <th>SEX</th>\n",
              "      <th>EDUCATION</th>\n",
              "      <th>MARRIAGE</th>\n",
              "      <th>AGE</th>\n",
              "      <th>PAY_0</th>\n",
              "      <th>PAY_2</th>\n",
              "      <th>PAY_3</th>\n",
              "      <th>PAY_4</th>\n",
              "      <th>PAY_5</th>\n",
              "      <th>PAY_6</th>\n",
              "      <th>BILL_AMT1</th>\n",
              "      <th>BILL_AMT2</th>\n",
              "      <th>BILL_AMT3</th>\n",
              "      <th>BILL_AMT4</th>\n",
              "      <th>BILL_AMT5</th>\n",
              "      <th>BILL_AMT6</th>\n",
              "      <th>PAY_AMT1</th>\n",
              "      <th>PAY_AMT2</th>\n",
              "      <th>PAY_AMT3</th>\n",
              "      <th>PAY_AMT4</th>\n",
              "      <th>PAY_AMT5</th>\n",
              "      <th>PAY_AMT6</th>\n",
              "      <th>default</th>\n",
              "    </tr>\n",
              "  </thead>\n",
              "  <tbody>\n",
              "    <tr>\n",
              "      <th>2</th>\n",
              "      <td>3</td>\n",
              "      <td>90000</td>\n",
              "      <td>2</td>\n",
              "      <td>2</td>\n",
              "      <td>2</td>\n",
              "      <td>34</td>\n",
              "      <td>0</td>\n",
              "      <td>0</td>\n",
              "      <td>0</td>\n",
              "      <td>0</td>\n",
              "      <td>0</td>\n",
              "      <td>0</td>\n",
              "      <td>29239</td>\n",
              "      <td>14027</td>\n",
              "      <td>13559</td>\n",
              "      <td>14331</td>\n",
              "      <td>14948</td>\n",
              "      <td>15549</td>\n",
              "      <td>1518</td>\n",
              "      <td>1500</td>\n",
              "      <td>1000</td>\n",
              "      <td>1000</td>\n",
              "      <td>1000</td>\n",
              "      <td>5000</td>\n",
              "      <td>0</td>\n",
              "    </tr>\n",
              "    <tr>\n",
              "      <th>3</th>\n",
              "      <td>4</td>\n",
              "      <td>50000</td>\n",
              "      <td>2</td>\n",
              "      <td>2</td>\n",
              "      <td>1</td>\n",
              "      <td>37</td>\n",
              "      <td>0</td>\n",
              "      <td>0</td>\n",
              "      <td>0</td>\n",
              "      <td>0</td>\n",
              "      <td>0</td>\n",
              "      <td>0</td>\n",
              "      <td>46990</td>\n",
              "      <td>48233</td>\n",
              "      <td>49291</td>\n",
              "      <td>28314</td>\n",
              "      <td>28959</td>\n",
              "      <td>29547</td>\n",
              "      <td>2000</td>\n",
              "      <td>2019</td>\n",
              "      <td>1200</td>\n",
              "      <td>1100</td>\n",
              "      <td>1069</td>\n",
              "      <td>1000</td>\n",
              "      <td>0</td>\n",
              "    </tr>\n",
              "    <tr>\n",
              "      <th>4</th>\n",
              "      <td>5</td>\n",
              "      <td>50000</td>\n",
              "      <td>1</td>\n",
              "      <td>2</td>\n",
              "      <td>1</td>\n",
              "      <td>57</td>\n",
              "      <td>0</td>\n",
              "      <td>0</td>\n",
              "      <td>0</td>\n",
              "      <td>0</td>\n",
              "      <td>0</td>\n",
              "      <td>0</td>\n",
              "      <td>8617</td>\n",
              "      <td>5670</td>\n",
              "      <td>35835</td>\n",
              "      <td>20940</td>\n",
              "      <td>19146</td>\n",
              "      <td>19131</td>\n",
              "      <td>2000</td>\n",
              "      <td>36681</td>\n",
              "      <td>10000</td>\n",
              "      <td>9000</td>\n",
              "      <td>689</td>\n",
              "      <td>679</td>\n",
              "      <td>0</td>\n",
              "    </tr>\n",
              "    <tr>\n",
              "      <th>5</th>\n",
              "      <td>6</td>\n",
              "      <td>50000</td>\n",
              "      <td>1</td>\n",
              "      <td>1</td>\n",
              "      <td>2</td>\n",
              "      <td>37</td>\n",
              "      <td>0</td>\n",
              "      <td>0</td>\n",
              "      <td>0</td>\n",
              "      <td>0</td>\n",
              "      <td>0</td>\n",
              "      <td>0</td>\n",
              "      <td>64400</td>\n",
              "      <td>57069</td>\n",
              "      <td>57608</td>\n",
              "      <td>19394</td>\n",
              "      <td>19619</td>\n",
              "      <td>20024</td>\n",
              "      <td>2500</td>\n",
              "      <td>1815</td>\n",
              "      <td>657</td>\n",
              "      <td>1000</td>\n",
              "      <td>1000</td>\n",
              "      <td>800</td>\n",
              "      <td>0</td>\n",
              "    </tr>\n",
              "    <tr>\n",
              "      <th>6</th>\n",
              "      <td>7</td>\n",
              "      <td>500000</td>\n",
              "      <td>1</td>\n",
              "      <td>1</td>\n",
              "      <td>2</td>\n",
              "      <td>29</td>\n",
              "      <td>0</td>\n",
              "      <td>0</td>\n",
              "      <td>0</td>\n",
              "      <td>0</td>\n",
              "      <td>0</td>\n",
              "      <td>0</td>\n",
              "      <td>367965</td>\n",
              "      <td>412023</td>\n",
              "      <td>445007</td>\n",
              "      <td>542653</td>\n",
              "      <td>483003</td>\n",
              "      <td>473944</td>\n",
              "      <td>55000</td>\n",
              "      <td>40000</td>\n",
              "      <td>38000</td>\n",
              "      <td>20239</td>\n",
              "      <td>13750</td>\n",
              "      <td>13770</td>\n",
              "      <td>0</td>\n",
              "    </tr>\n",
              "  </tbody>\n",
              "</table>\n",
              "</div>"
            ],
            "text/plain": [
              "   ID  LIMIT_BAL  SEX  EDUCATION  ...  PAY_AMT4  PAY_AMT5  PAY_AMT6  default\n",
              "2   3      90000    2          2  ...      1000      1000      5000        0\n",
              "3   4      50000    2          2  ...      1100      1069      1000        0\n",
              "4   5      50000    1          2  ...      9000       689       679        0\n",
              "5   6      50000    1          1  ...      1000      1000       800        0\n",
              "6   7     500000    1          1  ...     20239     13750     13770        0\n",
              "\n",
              "[5 rows x 25 columns]"
            ]
          },
          "metadata": {
            "tags": []
          }
        },
        {
          "output_type": "stream",
          "text": [
            "\n",
            "\n",
            "\n",
            "Первые 5 строк с теме кто не вернул кредит (6636, 25)\n"
          ],
          "name": "stdout"
        },
        {
          "output_type": "display_data",
          "data": {
            "text/html": [
              "<div>\n",
              "<style scoped>\n",
              "    .dataframe tbody tr th:only-of-type {\n",
              "        vertical-align: middle;\n",
              "    }\n",
              "\n",
              "    .dataframe tbody tr th {\n",
              "        vertical-align: top;\n",
              "    }\n",
              "\n",
              "    .dataframe thead th {\n",
              "        text-align: right;\n",
              "    }\n",
              "</style>\n",
              "<table border=\"1\" class=\"dataframe\">\n",
              "  <thead>\n",
              "    <tr style=\"text-align: right;\">\n",
              "      <th></th>\n",
              "      <th>ID</th>\n",
              "      <th>LIMIT_BAL</th>\n",
              "      <th>SEX</th>\n",
              "      <th>EDUCATION</th>\n",
              "      <th>MARRIAGE</th>\n",
              "      <th>AGE</th>\n",
              "      <th>PAY_0</th>\n",
              "      <th>PAY_2</th>\n",
              "      <th>PAY_3</th>\n",
              "      <th>PAY_4</th>\n",
              "      <th>PAY_5</th>\n",
              "      <th>PAY_6</th>\n",
              "      <th>BILL_AMT1</th>\n",
              "      <th>BILL_AMT2</th>\n",
              "      <th>BILL_AMT3</th>\n",
              "      <th>BILL_AMT4</th>\n",
              "      <th>BILL_AMT5</th>\n",
              "      <th>BILL_AMT6</th>\n",
              "      <th>PAY_AMT1</th>\n",
              "      <th>PAY_AMT2</th>\n",
              "      <th>PAY_AMT3</th>\n",
              "      <th>PAY_AMT4</th>\n",
              "      <th>PAY_AMT5</th>\n",
              "      <th>PAY_AMT6</th>\n",
              "      <th>default</th>\n",
              "    </tr>\n",
              "  </thead>\n",
              "  <tbody>\n",
              "    <tr>\n",
              "      <th>0</th>\n",
              "      <td>1</td>\n",
              "      <td>20000</td>\n",
              "      <td>2</td>\n",
              "      <td>2</td>\n",
              "      <td>1</td>\n",
              "      <td>24</td>\n",
              "      <td>2</td>\n",
              "      <td>2</td>\n",
              "      <td>0</td>\n",
              "      <td>0</td>\n",
              "      <td>0</td>\n",
              "      <td>0</td>\n",
              "      <td>3913</td>\n",
              "      <td>3102</td>\n",
              "      <td>689</td>\n",
              "      <td>0</td>\n",
              "      <td>0</td>\n",
              "      <td>0</td>\n",
              "      <td>0</td>\n",
              "      <td>689</td>\n",
              "      <td>0</td>\n",
              "      <td>0</td>\n",
              "      <td>0</td>\n",
              "      <td>0</td>\n",
              "      <td>1</td>\n",
              "    </tr>\n",
              "    <tr>\n",
              "      <th>1</th>\n",
              "      <td>2</td>\n",
              "      <td>120000</td>\n",
              "      <td>2</td>\n",
              "      <td>2</td>\n",
              "      <td>2</td>\n",
              "      <td>26</td>\n",
              "      <td>0</td>\n",
              "      <td>2</td>\n",
              "      <td>0</td>\n",
              "      <td>0</td>\n",
              "      <td>0</td>\n",
              "      <td>2</td>\n",
              "      <td>2682</td>\n",
              "      <td>1725</td>\n",
              "      <td>2682</td>\n",
              "      <td>3272</td>\n",
              "      <td>3455</td>\n",
              "      <td>3261</td>\n",
              "      <td>0</td>\n",
              "      <td>1000</td>\n",
              "      <td>1000</td>\n",
              "      <td>1000</td>\n",
              "      <td>0</td>\n",
              "      <td>2000</td>\n",
              "      <td>1</td>\n",
              "    </tr>\n",
              "    <tr>\n",
              "      <th>13</th>\n",
              "      <td>14</td>\n",
              "      <td>70000</td>\n",
              "      <td>1</td>\n",
              "      <td>2</td>\n",
              "      <td>2</td>\n",
              "      <td>30</td>\n",
              "      <td>1</td>\n",
              "      <td>2</td>\n",
              "      <td>2</td>\n",
              "      <td>0</td>\n",
              "      <td>0</td>\n",
              "      <td>2</td>\n",
              "      <td>65802</td>\n",
              "      <td>67369</td>\n",
              "      <td>65701</td>\n",
              "      <td>66782</td>\n",
              "      <td>36137</td>\n",
              "      <td>36894</td>\n",
              "      <td>3200</td>\n",
              "      <td>0</td>\n",
              "      <td>3000</td>\n",
              "      <td>3000</td>\n",
              "      <td>1500</td>\n",
              "      <td>0</td>\n",
              "      <td>1</td>\n",
              "    </tr>\n",
              "    <tr>\n",
              "      <th>16</th>\n",
              "      <td>17</td>\n",
              "      <td>20000</td>\n",
              "      <td>1</td>\n",
              "      <td>1</td>\n",
              "      <td>2</td>\n",
              "      <td>24</td>\n",
              "      <td>0</td>\n",
              "      <td>0</td>\n",
              "      <td>2</td>\n",
              "      <td>2</td>\n",
              "      <td>2</td>\n",
              "      <td>2</td>\n",
              "      <td>15376</td>\n",
              "      <td>18010</td>\n",
              "      <td>17428</td>\n",
              "      <td>18338</td>\n",
              "      <td>17905</td>\n",
              "      <td>19104</td>\n",
              "      <td>3200</td>\n",
              "      <td>0</td>\n",
              "      <td>1500</td>\n",
              "      <td>0</td>\n",
              "      <td>1650</td>\n",
              "      <td>0</td>\n",
              "      <td>1</td>\n",
              "    </tr>\n",
              "    <tr>\n",
              "      <th>21</th>\n",
              "      <td>22</td>\n",
              "      <td>120000</td>\n",
              "      <td>2</td>\n",
              "      <td>2</td>\n",
              "      <td>1</td>\n",
              "      <td>39</td>\n",
              "      <td>0</td>\n",
              "      <td>0</td>\n",
              "      <td>0</td>\n",
              "      <td>0</td>\n",
              "      <td>0</td>\n",
              "      <td>0</td>\n",
              "      <td>316</td>\n",
              "      <td>316</td>\n",
              "      <td>316</td>\n",
              "      <td>0</td>\n",
              "      <td>632</td>\n",
              "      <td>316</td>\n",
              "      <td>316</td>\n",
              "      <td>316</td>\n",
              "      <td>0</td>\n",
              "      <td>632</td>\n",
              "      <td>316</td>\n",
              "      <td>0</td>\n",
              "      <td>1</td>\n",
              "    </tr>\n",
              "  </tbody>\n",
              "</table>\n",
              "</div>"
            ],
            "text/plain": [
              "    ID  LIMIT_BAL  SEX  EDUCATION  ...  PAY_AMT4  PAY_AMT5  PAY_AMT6  default\n",
              "0    1      20000    2          2  ...         0         0         0        1\n",
              "1    2     120000    2          2  ...      1000         0      2000        1\n",
              "13  14      70000    1          2  ...      3000      1500         0        1\n",
              "16  17      20000    1          1  ...         0      1650         0        1\n",
              "21  22     120000    2          2  ...       632       316         0        1\n",
              "\n",
              "[5 rows x 25 columns]"
            ]
          },
          "metadata": {
            "tags": []
          }
        }
      ]
    },
    {
      "cell_type": "markdown",
      "metadata": {
        "id": "I_fPYCu36lXl"
      },
      "source": [
        "Постройте распределения признака \"лимитный кредит\" в обеих группах"
      ]
    },
    {
      "cell_type": "code",
      "metadata": {
        "colab": {
          "base_uri": "https://localhost:8080/",
          "height": 306
        },
        "id": "aalHSNhC6lXl",
        "outputId": "4cafbac7-f952-4308-855e-f494c3cc1072"
      },
      "source": [
        "# Ваш код здесь\n",
        "rasx = x['LIMIT_BAL']\n",
        "rasx.plot.kde()\n",
        "\n",
        "#цвет-желтый\n",
        "rasy = y['LIMIT_BAL']\n",
        "rasy.plot.kde()"
      ],
      "execution_count": null,
      "outputs": [
        {
          "output_type": "execute_result",
          "data": {
            "text/plain": [
              "<matplotlib.axes._subplots.AxesSubplot at 0x7fded11efa90>"
            ]
          },
          "metadata": {
            "tags": []
          },
          "execution_count": 38
        },
        {
          "output_type": "display_data",
          "data": {
            "image/png": "[encoded data removed]",
            "text/plain": [
              "<Figure size 432x288 with 1 Axes>"
            ]
          },
          "metadata": {
            "tags": [],
            "needs_background": "light"
          }
        }
      ]
    },
    {
      "cell_type": "markdown",
      "metadata": {
        "id": "OHtr0zWK6lXl"
      },
      "source": [
        "Оцените распределения по внешнему виду"
      ]
    },
    {
      "cell_type": "markdown",
      "metadata": {
        "id": "ruShDAyfnsvO"
      },
      "source": [
        "Выводы: По графику видно, что распределения лимитов для групп похожие друг на друга. Для группы, которая вернула кредит, размер кредитного лимита выше."
      ]
    },
    {
      "cell_type": "markdown",
      "metadata": {
        "id": "aGzmpBZs6lXl"
      },
      "source": [
        "Относительно двух групп людей вернувших и не вернувших кредит проверьте следующие гипотезы: a) о равенстве медианных значений размера лимитного кредита b) о равенстве распределений с помощью одного из подходящих непараметрических критериев проверки равенства средних. Значимы ли полученные результаты с практической точки зрения ?"
      ]
    },
    {
      "cell_type": "markdown",
      "metadata": {
        "id": "_-kUbBr_diSQ"
      },
      "source": [
        "1.а) гипотеза о равенстве медианных значений размера лимитного кредита.\n",
        "\n",
        "H0 - медианные значения равны, а  H1 - не равны.\n",
        "Построим доверительные интервалы, если они не перескутся, то нулевую гипотезу отвергним"
      ]
    },
    {
      "cell_type": "code",
      "metadata": {
        "id": "IGa-fAfe6lXl"
      },
      "source": [
        "#функция для бутстрапа\n",
        "def get_bootstrap_samples(data, n_samples):\n",
        "    indices = np.random.randint(0, len(data), (n_samples, len(data)))\n",
        "    samples = data[indices]\n",
        "    return samples"
      ],
      "execution_count": null,
      "outputs": []
    },
    {
      "cell_type": "code",
      "metadata": {
        "id": "VsCFf13D6lXl"
      },
      "source": [
        "#функция для расчета доверительного интервала\n",
        "def stat_intervals(stat, alpha):\n",
        "    boundaries = np.percentile(stat, [100 * alpha / 2., 100 * (1 - alpha / 2.)])\n",
        "    return boundaries"
      ],
      "execution_count": null,
      "outputs": []
    },
    {
      "cell_type": "code",
      "metadata": {
        "colab": {
          "base_uri": "https://localhost:8080/"
        },
        "id": "9djPpgk16lXl",
        "outputId": "c5861f48-81f1-433b-dbd4-668f946019a4"
      },
      "source": [
        "#создаем массивы признаков\n",
        "defaultZero = data[data.default==0].LIMIT_BAL.values # кредитный лимит, для тех кто вернул кредит\n",
        "defaultOne   = data[data.default==1].LIMIT_BAL.values # кредитный лимит, для тех кто не вернул кредит\n",
        "\n",
        "#print(type(defaultOne), defaultOne.shape, max(defaultOne), max(defaultZero))"
      ],
      "execution_count": null,
      "outputs": [
        {
          "output_type": "stream",
          "text": [
            "<class 'numpy.ndarray'> (6636,) 740000 1000000\n"
          ],
          "name": "stdout"
        }
      ]
    },
    {
      "cell_type": "code",
      "metadata": {
        "colab": {
          "base_uri": "https://localhost:8080/"
        },
        "id": "9qIiD1JN6lXl",
        "outputId": "410d16f6-0452-4da1-d82a-cf920b1e8b46"
      },
      "source": [
        "alpha = 0.05 #Уровень доверия 95%\n",
        "#фиксируем генератор случайных чисел\n",
        "np.random.seed(0)\n",
        "#создаем по 1000 выборок и считаем на них медиану\n",
        "# используя map()\n",
        "defaulOneMedian = list( map(np.median,  get_bootstrap_samples(defaultOne, 1000)) ) \n",
        "defaultZeroMedian = list( map(np.median,  get_bootstrap_samples(defaultZero, 1000)) )\n",
        "\n",
        "#Уровень доверия 95%\n",
        "сonfidenceIntervalZero = np.array( stat_intervals(defaultZeroMedian, alpha))\n",
        "сonfidenceIntervalOne  = np.array( stat_intervals(defaulOneMedian, alpha) )\n",
        "print(\"Доверительный интервалы для тех кто платит: \", сonfidenceIntervalZero)\n",
        "print(\"Доверительный интервалы для тех кто не платит: \", сonfidenceIntervalOne)\n",
        "\n",
        "#Сравниваем интервалы \n",
        "diffConfidenceInterval = сonfidenceIntervalZero - сonfidenceIntervalOne\n",
        "print(\"Разница между доверительным интервалом тек кто платил и тех кто не платит: \", diffConfidenceInterval)\n",
        "# Ваш код здесь"
      ],
      "execution_count": null,
      "outputs": [
        {
          "output_type": "stream",
          "text": [
            "Доверительный интервалы для тех кто платит:  [150000. 150000.]\n",
            "Доверительный интервалы для тех кто не платит:  [80000. 90000.]\n",
            "Разница между доверительным интервалом тек кто платил и тех кто не платит:  [70000. 60000.]\n"
          ],
          "name": "stdout"
        }
      ]
    },
    {
      "cell_type": "markdown",
      "metadata": {
        "id": "3xLKqfkfb8kz"
      },
      "source": [
        "Ваши выводы здесь\n",
        "Нулевую гипотезу мы отвергаем, т.к. доверительный интервал для разницы кредитного лимита между тех кто платит и тех кто не платит, больше  нуля. То есть интервалы не пересикаются. Значит данные выборки статистически значисмые. "
      ]
    },
    {
      "cell_type": "markdown",
      "metadata": {
        "id": "aNRYXK1ipT8d"
      },
      "source": [
        " b) о равенстве распределений с помощью одного из подходящих непараметрических критериев проверки равенства средних\n",
        "\n",
        "H0 - распределения равны;\n",
        "H1 - не равны."
      ]
    },
    {
      "cell_type": "code",
      "metadata": {
        "id": "dmNIUQHp6lXl"
      },
      "source": [
        "def get_random_combinations(n1, n2, max_combinations):\n",
        "    index = list ( range(n1 + n2) ) \n",
        "    indices = set([tuple(index)])\n",
        "    print(np.random.shuffle(index))\n",
        "    for i in range(max_combinations - 1):\n",
        "        np.random.shuffle(index)\n",
        "        indices.add(tuple(index))\n",
        "    return [(index[:n1], index[n1:]) for index in indices]"
      ],
      "execution_count": null,
      "outputs": []
    },
    {
      "cell_type": "code",
      "metadata": {
        "id": "HhIexJux6lXl"
      },
      "source": [
        "def permutation_zero_dist_ind(sample1, sample2, max_combinations = None):\n",
        "    joined_sample = np.hstack((sample1, sample2))\n",
        "    n1 = len(sample1)\n",
        "    n = len(joined_sample)\n",
        "    \n",
        "    if max_combinations:\n",
        "        indices = get_random_combinations(n1, len(sample2), max_combinations)\n",
        "    else:\n",
        "        indices = [(list(index), filter(lambda i: i not in index, range(n))) \\\n",
        "                    for index in itertools.combinations(range(n), n1)]\n",
        "    \n",
        "    distr = [joined_sample[list(i[0])].mean() - joined_sample[list(i[1])].mean() \\\n",
        "             for i in indices]\n",
        "    return distr"
      ],
      "execution_count": null,
      "outputs": []
    },
    {
      "cell_type": "code",
      "metadata": {
        "id": "gg-OGwI86lXl"
      },
      "source": [
        "def permutation_zero_dist_ind(sample1, sample2, max_combinations = None):\n",
        "    joined_sample = np.hstack((sample1, sample2))\n",
        "    n1 = len(sample1)\n",
        "    n = len(joined_sample)\n",
        "    \n",
        "    if max_combinations:\n",
        "        indices = get_random_combinations(n1, len(sample2), max_combinations)\n",
        "    else:\n",
        "        indices = [(list(index), filter(lambda i: i not in index, range(n))) \\\n",
        "                    for index in itertools.combinations(range(n), n1)]\n",
        "    \n",
        "    distr = [joined_sample[list(i[0])].mean() - joined_sample[list(i[1])].mean() \\\n",
        "             for i in indices]\n",
        "    return distr"
      ],
      "execution_count": null,
      "outputs": []
    },
    {
      "cell_type": "code",
      "metadata": {
        "id": "Wq0pg6tW6lXl"
      },
      "source": [
        "def permutation_test(sample, mean, max_permutations = None, alternative = 'two-sided'):\n",
        "    if alternative not in ('two-sided', 'less', 'greater'):\n",
        "        raise ValueError(\"alternative not recognized\\n\"\n",
        "                         \"should be 'two-sided', 'less' or 'greater'\")\n",
        "    \n",
        "    t_stat = permutation_t_stat_ind(sample, mean)\n",
        "    \n",
        "    zero_distr = permutation_zero_dist_ind(sample, mean, max_permutations)\n",
        "    \n",
        "    if alternative == 'two-sided':\n",
        "        return sum([1. if abs(x) >= abs(t_stat) else 0. for x in zero_distr]) / len(zero_distr)\n",
        "    \n",
        "    if alternative == 'less':\n",
        "        return sum([1. if x <= t_stat else 0. for x in zero_distr]) / len(zero_distr)\n",
        "\n",
        "    if alternative == 'greater':\n",
        "        return sum([1. if x >= t_stat else 0. for x in zero_distr]) / len(zero_distr)"
      ],
      "execution_count": null,
      "outputs": []
    },
    {
      "cell_type": "code",
      "metadata": {
        "colab": {
          "base_uri": "https://localhost:8080/"
        },
        "id": "EGG85qI9pTt5",
        "outputId": "3e3bf737-31ee-4dc1-cfd6-3e9e275694a2"
      },
      "source": [
        "#Проверка вероятности достоверности гипотезы\n",
        "pValue = permutation_test(defaultZero, defaultOne, max_permutations=1000)\n",
        "print(\"Достигаемый уровень значимости перестановочного критерия:\", pValue)"
      ],
      "execution_count": null,
      "outputs": [
        {
          "output_type": "stream",
          "text": [
            "None\n",
            "Достигаемый уровень значимости перестановочного критерия: 0.001\n"
          ],
          "name": "stdout"
        }
      ]
    },
    {
      "cell_type": "markdown",
      "metadata": {
        "id": "1zNJ1yhESeOq"
      },
      "source": [
        "Непараметрический перестановочный критерий для двух независимых выборок дает достигаемый уровень значимости намного меньше 0.05.\n",
        "Из этого можно сделать вывод, что гипотеза о равенстве распределений отвергается.\n",
        "С практической точки зрения этот результат говорят о том, что банк выдает большие кредиты надежным клиентам, которые не просрочивали выплаты."
      ]
    },
    {
      "cell_type": "markdown",
      "metadata": {
        "id": "n6Yes4lF6lXl"
      },
      "source": [
        "## Второе задание"
      ]
    },
    {
      "cell_type": "markdown",
      "metadata": {
        "id": "X65lGWoj6lXl"
      },
      "source": [
        "Проверьте гипотезу о том, что гендерный состав группы людей вернувших и не вернувших кредит отличается.\n"
      ]
    },
    {
      "cell_type": "markdown",
      "metadata": {
        "id": "AzarXpj6Ul5J"
      },
      "source": [
        "Н0 - что гендерный состав группы не отичается;\n",
        "\n",
        "Н1 - что гендерный состав группы отличается. "
      ]
    },
    {
      "cell_type": "code",
      "metadata": {
        "id": "IHCB4IHFUkn_"
      },
      "source": [
        "#Проверка через z-критерий\n",
        "sexDefaultZero = np.mod(data[data['default'] == 0]['SEX'],2)\n",
        "sexDefaultOne = np.mod(data[data['default'] == 1]['SEX'],2) \n",
        "#print(sexdefaultZero)"
      ],
      "execution_count": null,
      "outputs": []
    },
    {
      "cell_type": "code",
      "metadata": {
        "id": "ymy6BCus6lXl"
      },
      "source": [
        "#функция для расчета статистики\n",
        "# здесь Ваш код\n",
        "def proportions_diff_z_stat_ind(sample1, sample2):\n",
        "    n1 = len(sample1)\n",
        "    n2 = len(sample2)\n",
        "    \n",
        "    p1 = float(sum(sample1)) / n1\n",
        "    p2 = float(sum(sample2)) / n2 \n",
        "    P = float(p1*n1 + p2*n2) / (n1 + n2)\n",
        "    \n",
        "    return (p1 - p2) / np.sqrt(P * (1 - P) * (1. / n1 + 1. / n2))"
      ],
      "execution_count": null,
      "outputs": []
    },
    {
      "cell_type": "code",
      "metadata": {
        "id": "2X97nP0P6lXl"
      },
      "source": [
        "#функция для расчета Z критерия\n",
        "def proportions_diff_z_test(z_stat, alternative = 'two-sided'):\n",
        "    if alternative not in ('two-sided', 'less', 'greater'):\n",
        "        raise ValueError(\"alternative not recognized\\n\"\n",
        "                         \"should be 'two-sided', 'less' or 'greater'\")\n",
        "    \n",
        "    if alternative == 'two-sided':\n",
        "        return 2 * (1 - scipy.stats.norm.cdf(np.abs(z_stat)))\n",
        "    \n",
        "    if alternative == 'less':\n",
        "        return scipy.stats.norm.cdf(z_stat)\n",
        "\n",
        "    if alternative == 'greater':\n",
        "        return 1 - scipy.stats.norm.cdf(z_stat)"
      ],
      "execution_count": null,
      "outputs": []
    },
    {
      "cell_type": "code",
      "metadata": {
        "colab": {
          "base_uri": "https://localhost:8080/"
        },
        "id": "BNF1b_amokUm",
        "outputId": "34677b6c-45a0-4861-eccc-39656e67306c"
      },
      "source": [
        "p_value =  proportions_diff_z_test(proportions_diff_z_stat_ind(sexDefaultZero, sexDefaultOne)) #H1 != H0\n",
        "print(\"p-value: {:.15f}\".format(p_value))"
      ],
      "execution_count": null,
      "outputs": [
        {
          "output_type": "stream",
          "text": [
            "p-value: 0.000000000004473\n"
          ],
          "name": "stdout"
        }
      ]
    },
    {
      "cell_type": "markdown",
      "metadata": {
        "id": "3k8c0Op36lXl"
      },
      "source": [
        "Вывод: проверив с помощью Z критерия выяснили, что гипотиза H0 отвергается потомучто p-value < 0,05"
      ]
    },
    {
      "cell_type": "markdown",
      "metadata": {
        "id": "Q8Hl-Kxo6lXl"
      },
      "source": [
        "Проверьте гипотезу с помощью доверительных интервалов"
      ]
    },
    {
      "cell_type": "code",
      "metadata": {
        "id": "9MvYaHLO6lXl"
      },
      "source": [
        "#функция для расчета доверительного интервала\n",
        "def proportions_diff_confint_ind(sample1, sample2, alpha = 0.05):    \n",
        "    z = scipy.stats.norm.ppf(1 - alpha / 2.)\n",
        "    \n",
        "    p1 = float(sum(sample1)) / len(sample1)\n",
        "    p2 = float(sum(sample2)) / len(sample2)\n",
        "    \n",
        "    left_boundary = (p1 - p2) - z * np.sqrt(p1 * (1 - p1)/ len(sample1) + p2 * (1 - p2)/ len(sample2))\n",
        "    right_boundary = (p1 - p2) + z * np.sqrt(p1 * (1 - p1)/ len(sample1) + p2 * (1 - p2)/ len(sample2))\n",
        "    \n",
        "    return (left_boundary, right_boundary)"
      ],
      "execution_count": null,
      "outputs": []
    },
    {
      "cell_type": "code",
      "metadata": {
        "colab": {
          "base_uri": "https://localhost:8080/"
        },
        "id": "Qd3ZLFRf6lXl",
        "outputId": "489cf2c1-0fdd-42fb-b538-fa0da05b8f70"
      },
      "source": [
        "# Здесь Ваш код\n",
        "interval = proportions_diff_confint_ind(sexDefaultZero,sexDefaultOne, alpha)\n",
        "print(\"Доверительный интервал находится в интервале между:\", interval[0], interval[1])"
      ],
      "execution_count": null,
      "outputs": [
        {
          "output_type": "stream",
          "text": [
            "Доверительный интервал находится в интервале между: -0.060548077974896725 -0.03363493274962867\n"
          ],
          "name": "stdout"
        }
      ]
    },
    {
      "cell_type": "markdown",
      "metadata": {
        "id": "lzbgiBOL6lXl"
      },
      "source": [
        "Вывод: гендорный состав отличается на 3%-6%. "
      ]
    },
    {
      "cell_type": "markdown",
      "metadata": {
        "id": "kyjDJTIS6lXl"
      },
      "source": [
        "## Третье задание "
      ]
    },
    {
      "cell_type": "code",
      "metadata": {
        "id": "NyTn82tdk9u0"
      },
      "source": [
        "print()"
      ],
      "execution_count": null,
      "outputs": []
    },
    {
      "cell_type": "markdown",
      "metadata": {
        "id": "lYYZyPsC6lXl"
      },
      "source": [
        "Проверьте гипотезу о том, что образование не влияет на то, вернет ли человек долг. Используйте stats.chi2_contingency() функцию для расчета кси-квадрат критерия"
      ]
    },
    {
      "cell_type": "markdown",
      "metadata": {
        "id": "WDOjzh_pjdaA"
      },
      "source": [
        "H0 -уровень образования не влияет на возврат кредита\n",
        "\n",
        "H1 -  влияет"
      ]
    },
    {
      "cell_type": "code",
      "metadata": {
        "id": "S4G-4ba76lXl",
        "colab": {
          "base_uri": "https://localhost:8080/"
        },
        "outputId": "ecaa423f-6184-4597-df17-3d1f5c05bf01"
      },
      "source": [
        "# Здесь Ваш код\n",
        "tableEdu = pd.crosstab( data.default, data.EDUCATION)\n",
        "print(tableEdu)\n",
        "chi2, pVal, dof, ex = stats.chi2_contingency(pd.crosstab( data.default, data.EDUCATION))\n",
        "print(\"chi2 contingency: {:.4f}, p-value: {}\".format( chi2, pVal))\n"
      ],
      "execution_count": null,
      "outputs": [
        {
          "output_type": "stream",
          "text": [
            "EDUCATION   0     1      2     3    4    5   6\n",
            "default                                       \n",
            "0          14  8549  10700  3680  116  262  43\n",
            "1           0  2036   3330  1237    7   18   8\n",
            "chi2 contingency: 163.2166, p-value: 1.2332626245415605e-32\n"
          ],
          "name": "stdout"
        }
      ]
    },
    {
      "cell_type": "markdown",
      "metadata": {
        "id": "cnkeeID16lXl"
      },
      "source": [
        "Постройте график, отражающий уровень образования и разницу в прогнозе по возврату кредита"
      ]
    },
    {
      "cell_type": "code",
      "metadata": {
        "colab": {
          "base_uri": "https://localhost:8080/",
          "height": 604
        },
        "id": "0jdGDa0e6lXl",
        "outputId": "dbcc337c-18c4-462c-a4c6-bce0ed97a588"
      },
      "source": [
        "# Здесь Ваш код\n",
        "eduNames = [\"Ph.D.\", \"Master\", \"Bachelor\", \"Graduate school\", \"Elementary education\", \"N/A\"]\n",
        "eduDefaultZero = tableEdu.loc[0]\n",
        "eduDefaultOne  = tableEdu.loc[1]\n",
        "\n",
        "eduDiffScaled = np.array(eduDefaultZero) / np.array(tableEdu.sum())\n",
        "\n",
        "tableEduDiffScaled = pd.DataFrame(eduDiffScaled.reshape(1,7), columns=tableEdu.columns)\n",
        "\n",
        "tableEduDiffScaled.plot.bar(figsize=(20, 10))\n",
        "plt.title(\"Различия между теми кто вернул и теми кто не вернул дениги по кредиту\")\n",
        "plt.legend(eduNames)\n",
        "plt.grid()\n",
        "plt.show()"
      ],
      "execution_count": null,
      "outputs": [
        {
          "output_type": "display_data",
          "data": {
            "image/png": "[encoded data removed]",
            "text/plain": [
              "<Figure size 1440x720 with 1 Axes>"
            ]
          },
          "metadata": {
            "tags": [],
            "needs_background": "light"
          }
        }
      ]
    },
    {
      "cell_type": "markdown",
      "metadata": {
        "id": "KunuGOr66lXl"
      },
      "source": [
        "Исходя из графика видно, что распределние не является равномерным, следовательно, образование влияет на то, вернёт ли человек долг. Реже всего возвращают долги категории Bachelor, Graduate school. Возвращают практически все долги только люди с Ph.D.."
      ]
    },
    {
      "cell_type": "markdown",
      "metadata": {
        "id": "4W74C27h6lXl"
      },
      "source": [
        "## Четвертое задание "
      ]
    },
    {
      "cell_type": "markdown",
      "metadata": {
        "id": "YLD3AObTlCfy"
      },
      "source": [
        "![изображение_2020-11-29_201706.png](data:image/png;base64,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)"
      ]
    },
    {
      "cell_type": "markdown",
      "metadata": {
        "id": "Q4j5y7j86lXl"
      },
      "source": [
        "Проверьте, как связан семейный статус с индикатором дефолта: нужно предложить меру, по которой можно измерить возможную связь этих переменных и посчитать ее значение"
      ]
    },
    {
      "cell_type": "markdown",
      "metadata": {
        "id": "YXsNwD2D7gFp"
      },
      "source": [
        "H0 - семейное положение не связано;\n",
        "\n",
        "H1 -  связано"
      ]
    },
    {
      "cell_type": "code",
      "metadata": {
        "colab": {
          "base_uri": "https://localhost:8080/"
        },
        "id": "DMbS5WI16lXl",
        "outputId": "2c9de497-c211-4dff-aba9-c34ed4e954ba"
      },
      "source": [
        "# здесь Ваш код\n",
        "tabletMar = pd.crosstab( data.default, data.MARRIAGE)\n",
        "\n",
        "chi2, p, dof, exp = stats.chi2_contingency(tabletMar)\n",
        "print('p-value = ', p)\n",
        "\n",
        "#коэффициент V Крамера\n",
        "n = data.shape[0] \n",
        "vCramer = ( chi2 / (n*(min(tabletMar.shape)-1))) ** 0.5\n",
        "print('V Крамер = {:.4f}'.format(vCramer) )\n",
        "\n",
        "\n"
      ],
      "execution_count": null,
      "outputs": [
        {
          "output_type": "stream",
          "text": [
            "p-value =  8.825862457577375e-08\n",
            "V Крамер = 0.0345\n"
          ],
          "name": "stdout"
        }
      ]
    },
    {
      "cell_type": "markdown",
      "metadata": {
        "id": "QKkLQjT36lXl"
      },
      "source": [
        "Выводы: Так p-value близко к 0, значит связь крайне мала. Поэтому отвергаем нулевую гипотезу. \n",
        "Семейное положение заемщика связано с возвратои или невозвратом кредита\n"
      ]
    },
    {
      "cell_type": "markdown",
      "metadata": {
        "id": "BTLAI9gS6lXl"
      },
      "source": [
        "## Пятое задание"
      ]
    },
    {
      "cell_type": "markdown",
      "metadata": {
        "id": "9G40-Gbf6lXl"
      },
      "source": [
        "Относительно двух групп людей вернувших и не вернувших кредит проверьте следующие гипотезы: a) о равенстве медианных значений возрастов людей b) о равенстве распределений с помощью одного из подходящих непараметрических критериев проверки равенства средних. Значимы ли полученные результаты с практической точки зрения ?"
      ]
    },
    {
      "cell_type": "markdown",
      "metadata": {
        "id": "2HUkQYBme7l3"
      },
      "source": [
        " ### 1.а"
      ]
    },
    {
      "cell_type": "markdown",
      "metadata": {
        "id": "WP6G-zoseddS"
      },
      "source": [
        "H0 - возраст не влияет;\n",
        "\n",
        "H1 - возраст влияет."
      ]
    },
    {
      "cell_type": "code",
      "metadata": {
        "colab": {
          "base_uri": "https://localhost:8080/"
        },
        "id": "J-0et-FP6lXl",
        "outputId": "59274f99-090d-48a4-96af-3ab2eac2ca62"
      },
      "source": [
        "# Здесь Ваш код\n",
        "AgeDefaultZero = data[data.default==0].AGE.values # возраст, тех кто вернул кредит\n",
        "AgeDefaultOne  = data[data.default==1].AGE.values # возоаст, для тех кто не вернул кредит\n",
        "\n",
        "#Test\n",
        "print(\"Проверим медианы возрастов\")\n",
        "print(\"Медиана для тек кто вернул {} \\nМедиана для тек кто не вернул {} \".format(np.median(AgeDefaultZero),np.median(AgeDefaultOne)) )\n",
        "#print(type(AgeDefaultOne), AgeDefaultOne.shape, max(AgeDefaultOne), max(AgeDefaultZero))"
      ],
      "execution_count": null,
      "outputs": [
        {
          "output_type": "stream",
          "text": [
            "Проверим медианы возрастов\n",
            "Медиана для тек кто вернул 34.0 \n",
            "Медиана для тек кто не вернул 34.0 \n"
          ],
          "name": "stdout"
        }
      ]
    },
    {
      "cell_type": "code",
      "metadata": {
        "colab": {
          "base_uri": "https://localhost:8080/"
        },
        "id": "JgonTosWcTDe",
        "outputId": "b9764563-8d0d-4e30-979e-4f2ff38624ef"
      },
      "source": [
        "#фиксируем генератор случайных чисел\n",
        "np.random.seed(0)\n",
        "#создаем по 1000 выборок и считаем на них медиану\n",
        "# используя map()\n",
        "AgeDefaulOneMedian = list( map(np.median,  get_bootstrap_samples(AgeDefaultOne, 1000)) ) \n",
        "AgeDefaultZeroMedian = list( map(np.median,  get_bootstrap_samples(AgeDefaultZero, 1000)) )\n",
        "\n",
        "print(set(defaulOneMedian))\n",
        "#Уровень доверия 95%\n",
        "сonfidenceIntervalZero = np.array( stat_intervals(AgeDefaultZeroMedian, alpha))\n",
        "сonfidenceIntervalOne  = np.array( stat_intervals(AgeDefaulOneMedian, alpha) )\n",
        "print(\"Доверительный интервалы для тех кто платит: \", сonfidenceIntervalZero)\n",
        "print(\"Доверительный интервалы для тех кто не платит: \", сonfidenceIntervalOne)\n",
        "\n",
        "#Сравниваем интервалы \n",
        "diffConfidenceInterval = сonfidenceIntervalZero - сonfidenceIntervalOne\n",
        "print(\"Разница между доверительным интервалом тек кто платил и тех кто не платит: \", diffConfidenceInterval)"
      ],
      "execution_count": null,
      "outputs": [
        {
          "output_type": "stream",
          "text": [
            "{90000.0, 85000.0, 80000.0, 100000.0}\n",
            "Доверительный интервалы для тех кто платит:  [34. 34.]\n",
            "Доверительный интервалы для тех кто не платит:  [34. 35.]\n",
            "Разница между доверительным интервалом тек кто платил и тех кто не платит:  [ 0. -1.]\n"
          ],
          "name": "stdout"
        }
      ]
    },
    {
      "cell_type": "markdown",
      "metadata": {
        "id": "M9jhOccSgYZR"
      },
      "source": [
        "Выводы: так как Доверительный интервалы пересикаются, а разница имеет ноль, можно сделать вывод, что возраст не влияет на выплату кредита. Принимаем гипотезу H0."
      ]
    },
    {
      "cell_type": "markdown",
      "metadata": {
        "id": "TcZnZdR-fD7z"
      },
      "source": [
        " ### 1.b"
      ]
    },
    {
      "cell_type": "markdown",
      "metadata": {
        "id": "auvB4IAxhHBJ"
      },
      "source": [
        "H0 - распределения выборок полностью равны\n",
        "\n",
        "H1 - распределения выборок отличаются "
      ]
    },
    {
      "cell_type": "code",
      "metadata": {
        "colab": {
          "base_uri": "https://localhost:8080/"
        },
        "id": "K7iavvbkfmUJ",
        "outputId": "32e518ce-ae7c-4689-fe72-5cacdf611ca2"
      },
      "source": [
        "pValue = permutation_test(AgeDefaultZero, AgeDefaultOne, max_permutations=1000)\n",
        "print(\"Достигаемый уровень значимости перестановочного критерия:\", pValue)"
      ],
      "execution_count": null,
      "outputs": [
        {
          "output_type": "stream",
          "text": [
            "None\n",
            "Достигаемый уровень значимости перестановочного критерия: 0.013\n"
          ],
          "name": "stdout"
        }
      ]
    },
    {
      "cell_type": "markdown",
      "metadata": {
        "id": "Jk4stZP3d6G0"
      },
      "source": [
        "Непараметрический перестановочный критерий для двух независимых выборок дает достигаемый уровень значимости намного меньше 0.05. Из этого можно сделать вывод, что гипотеза о равенстве распределений отвергается. С практической точки зрения этот результат говорит о том, что банку всеравно на возраст клиента"
      ]
    },
    {
      "cell_type": "markdown",
      "metadata": {
        "id": "rZ-9XVK96lXl"
      },
      "source": [
        "#Выводы по всей лабораторной:\n",
        "в ходе лабораторной работы было выяснено, что на выдачу больших кредитов влияет надёжность заёмщика, пол заёмщика, его образование и семейное положение важно для выдачи кредита, а вот его возраст незначительно влияет.  "
      ]
    }
  ]
}