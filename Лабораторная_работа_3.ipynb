{
  "nbformat": 4,
  "nbformat_minor": 0,
  "metadata": {
    "kernelspec": {
      "display_name": "Python 3",
      "language": "python",
      "name": "python3"
    },
    "language_info": {
      "codemirror_mode": {
        "name": "ipython",
        "version": 3
      },
      "file_extension": ".py",
      "mimetype": "text/x-python",
      "name": "python",
      "nbconvert_exporter": "python",
      "pygments_lexer": "ipython3",
      "version": "3.7.0"
    },
    "colab": {
      "name": "Лабораторная работа №3.ipynb",
      "provenance": []
    }
  },
  "cells": [
    {
      "cell_type": "markdown",
      "metadata": {
        "id": "3pTygSG5Z4t1"
      },
      "source": [
        "## Лабораторная работа №3\n",
        "# Линейная регрессия на числовых параметрах"
      ]
    },
    {
      "cell_type": "markdown",
      "metadata": {
        "id": "E5f6JM83Z4t3"
      },
      "source": [
        "## Задача\n",
        "Построить модель для прогнозирования цен на неджвижимость в Бостоне\n",
        "### Данные\n",
        "\n",
        "В качестве данных для модели используется датасет с набором данных по цене недвижимости в Бостоне. В наборе учетны 13 параметров, влияющих на цену недвижимости. Все параметры числовые.\n"
      ]
    },
    {
      "cell_type": "markdown",
      "metadata": {
        "id": "nh7KA0g2Z4t4"
      },
      "source": [
        "#### Инструменты решения\n",
        "Решение будет в виде линейной регрессии. Теорию по линейной регрессии смотрите в лекции.\n",
        "Для создания модели используется библиотека SkLearn.\n",
        "Для обработки данных используется библиотека pandas\n"
      ]
    },
    {
      "cell_type": "markdown",
      "metadata": {
        "id": "7KlDYRE3Z4t4"
      },
      "source": [
        "Загрузим библиотеки"
      ]
    },
    {
      "cell_type": "code",
      "metadata": {
        "id": "_d685LvAZ4t4",
        "outputId": "60bb3ee4-4294-4c6c-b710-6757bae9d184"
      },
      "source": [
        "import numpy as np\n",
        "#загрузим pandas\n",
        "import pandas as pd\n",
        "#загрузим функцию для данных\n",
        "from sklearn.datasets import load_boston\n",
        "#загрузим регрессор\n",
        "from sklearn.linear_model import LinearRegression\n",
        "# загрузим набор для измерения качества модели и инструмент для кросс валидации\n",
        "from sklearn import metrics, cross_validation"
      ],
      "execution_count": null,
      "outputs": [
        {
          "name": "stderr",
          "output_type": "stream",
          "text": [
            "E:\\Anaconda\\lib\\site-packages\\sklearn\\cross_validation.py:41: DeprecationWarning: This module was deprecated in version 0.18 in favor of the model_selection module into which all the refactored classes and functions are moved. Also note that the interface of the new CV iterators are different from that of this module. This module will be removed in 0.20.\n",
            "  \"This module will be removed in 0.20.\", DeprecationWarning)\n"
          ]
        }
      ]
    },
    {
      "cell_type": "markdown",
      "metadata": {
        "id": "mpTLv4rgZ4t6"
      },
      "source": [
        "Для начала нужно подготовить данные с помощью библиотеки Pandas"
      ]
    },
    {
      "cell_type": "markdown",
      "metadata": {
        "id": "A44gZ6N8Z4t6"
      },
      "source": [
        "### Библиотека Pandas"
      ]
    },
    {
      "cell_type": "markdown",
      "metadata": {
        "id": "HtZ4-SPuZ4t6"
      },
      "source": [
        "### Series"
      ]
    },
    {
      "cell_type": "markdown",
      "metadata": {
        "id": "-dMMumMgZ4t7"
      },
      "source": [
        "<p>Конструкторв класса выглядит следующим образом</p>\n",
        "pandas.Series(data=None, index=None, dtype=None, name=None, copy=False, fastpath=False)\n",
        "data – массив, словарь или скалярное значение, на базе которого будет построен Series;\n",
        "\n",
        "index – список меток, который будет использоваться для доступа к элементам Series. Длина списка должна быть равна длине data;\n",
        "\n",
        "dtype – объект numpy.dtype, определяющий тип данных;\n",
        "\n",
        "copy – создает копию массива данных, если параметр равен True в ином случае ничего не делает."
      ]
    },
    {
      "cell_type": "markdown",
      "metadata": {
        "id": "MH9apR41Z4t7"
      },
      "source": [
        "Создание Series из списка"
      ]
    },
    {
      "cell_type": "code",
      "metadata": {
        "id": "1j7zq0KvZ4t7",
        "outputId": "2f5aa0cb-aa47-4df8-a5ef-142aa46229b9"
      },
      "source": [
        "s1 = pd.Series([1, 2, 3, 4, 5])\n",
        "print(s1)"
      ],
      "execution_count": null,
      "outputs": [
        {
          "name": "stdout",
          "output_type": "stream",
          "text": [
            "0    1\n",
            "1    2\n",
            "2    3\n",
            "3    4\n",
            "4    5\n",
            "dtype: int64\n"
          ]
        }
      ]
    },
    {
      "cell_type": "markdown",
      "metadata": {
        "id": "MQHqEPGhZ4t7"
      },
      "source": [
        "Добавим индексы в виде букв"
      ]
    },
    {
      "cell_type": "code",
      "metadata": {
        "id": "ZexcnbacZ4t8",
        "outputId": "2d372486-7466-4265-836a-81339a4c8517"
      },
      "source": [
        "s2 = pd.Series([1, 2, 3, 4, 5], ['a','b', 'c','d','e'])\n",
        "print(s2)"
      ],
      "execution_count": null,
      "outputs": [
        {
          "name": "stdout",
          "output_type": "stream",
          "text": [
            "a    1\n",
            "b    2\n",
            "c    3\n",
            "d    4\n",
            "e    5\n",
            "dtype: int64\n"
          ]
        }
      ]
    },
    {
      "cell_type": "markdown",
      "metadata": {
        "id": "KNw6xPvfZ4t8"
      },
      "source": [
        "Создание Series из массива"
      ]
    },
    {
      "cell_type": "code",
      "metadata": {
        "id": "CB2NWy6xZ4t8",
        "outputId": "06481274-a078-4ecd-ea78-a7d3f24367e7"
      },
      "source": [
        "arr1 = np.array([1,2,3,4])\n",
        "s3 = pd.Series(arr1, ['a','b', 'c','d'])\n",
        "print(s3)"
      ],
      "execution_count": null,
      "outputs": [
        {
          "name": "stdout",
          "output_type": "stream",
          "text": [
            "a    1\n",
            "b    2\n",
            "c    3\n",
            "d    4\n",
            "dtype: int32\n"
          ]
        }
      ]
    },
    {
      "cell_type": "markdown",
      "metadata": {
        "id": "BeaFjW66Z4t8"
      },
      "source": [
        "Обращение к элементу Series"
      ]
    },
    {
      "cell_type": "code",
      "metadata": {
        "id": "xdY-6icUZ4t9",
        "outputId": "9938b873-ee07-427e-b32d-16e6848c2e70"
      },
      "source": [
        "el1 = s3[0]\n",
        "print (el1)"
      ],
      "execution_count": null,
      "outputs": [
        {
          "name": "stdout",
          "output_type": "stream",
          "text": [
            "1\n"
          ]
        }
      ]
    },
    {
      "cell_type": "markdown",
      "metadata": {
        "id": "Sz83IiE_Z4t9"
      },
      "source": [
        "Обращение к индексу элемента"
      ]
    },
    {
      "cell_type": "code",
      "metadata": {
        "id": "vxfHaMeWZ4t9",
        "outputId": "dabb06aa-0a2b-4ffc-df29-54866768b468"
      },
      "source": [
        "el1index = s3.index[0]\n",
        "print (el1index)"
      ],
      "execution_count": null,
      "outputs": [
        {
          "name": "stdout",
          "output_type": "stream",
          "text": [
            "a\n"
          ]
        }
      ]
    },
    {
      "cell_type": "markdown",
      "metadata": {
        "id": "Uz1qytlhZ4t9"
      },
      "source": [
        "Выбор первых 2 элементов"
      ]
    },
    {
      "cell_type": "code",
      "metadata": {
        "id": "Juzo48auZ4t9",
        "outputId": "dc557668-531e-44a9-ce9e-64d4b5ea5b10"
      },
      "source": [
        "elements2 = s3[:2]\n",
        "print (elements2)"
      ],
      "execution_count": null,
      "outputs": [
        {
          "name": "stdout",
          "output_type": "stream",
          "text": [
            "a    1\n",
            "b    2\n",
            "dtype: int32\n"
          ]
        }
      ]
    },
    {
      "cell_type": "markdown",
      "metadata": {
        "id": "0cxbWN9FZ4t-"
      },
      "source": [
        "### DataFrame"
      ]
    },
    {
      "cell_type": "markdown",
      "metadata": {
        "id": "w3A3yf9VZ4t-"
      },
      "source": [
        "DataFrame представляет собой набор Series, а проще его представить как таблицу.\n",
        "**Конструктор класса DataFrame выглядит так:**\n",
        "\n",
        "class pandas.DataFrame(data=None, index=None, columns=None, dtype=None, copy=False)\n",
        "* data – массив ndarray, словарь (dict) или другой DataFrame;\n",
        "\n",
        "* index – список меток для записей (имена строк таблицы);\n",
        "\n",
        "* columns – список меток для полей (имена столбцов таблицы);\n",
        "\n",
        "* dtype – объект numpy.dtype, определяющий тип данных;\n",
        "\n",
        "* copy – создает копию массива данных, если параметр равен True в ином случае ничего не делает."
      ]
    },
    {
      "cell_type": "markdown",
      "metadata": {
        "id": "WnPwiwHqZ4t-"
      },
      "source": [
        "<p>Структуру DataFrame можно создать на базе:</p>\n",
        "\n",
        "* словаря (dict) в качестве элементов которого должны выступать: одномерные ndarray, списки, другие словари, структуры Series;\n",
        "* двумерные ndarray;\n",
        "* структуры Series;\n",
        "* структурированные ndarray;\n",
        "* другие DataFrame."
      ]
    },
    {
      "cell_type": "markdown",
      "metadata": {
        "id": "WS90o7NsZ4t-"
      },
      "source": [
        "Создание на основе словаря из Series"
      ]
    },
    {
      "cell_type": "code",
      "metadata": {
        "id": "JmN-SrPFZ4t-",
        "outputId": "9477f688-b720-4a9b-afb4-56df84b39a10"
      },
      "source": [
        "d = {\"price\":pd.Series([1, 2, 3], index=['v1', 'v2', 'v3']),\n",
        "     \"count\": pd.Series([10, 12, 7], index=['v1', 'v2', 'v3'])}\n",
        "df1 = pd.DataFrame(d)\n",
        "\n",
        "print(df1)"
      ],
      "execution_count": null,
      "outputs": [
        {
          "name": "stdout",
          "output_type": "stream",
          "text": [
            "    price  count\n",
            "v1      1     10\n",
            "v2      2     12\n",
            "v3      3      7\n"
          ]
        }
      ]
    },
    {
      "cell_type": "markdown",
      "metadata": {
        "id": "e0GtDXDLZ4t_"
      },
      "source": [
        "Выведем индексы"
      ]
    },
    {
      "cell_type": "code",
      "metadata": {
        "id": "-Sj0uVB9Z4t_",
        "outputId": "7bd807a1-a666-4da6-a714-3e7d388b7144"
      },
      "source": [
        "print(df1.index)"
      ],
      "execution_count": null,
      "outputs": [
        {
          "name": "stdout",
          "output_type": "stream",
          "text": [
            "Index(['v1', 'v2', 'v3'], dtype='object')\n"
          ]
        }
      ]
    },
    {
      "cell_type": "markdown",
      "metadata": {
        "id": "LO-oD4qoZ4t_"
      },
      "source": [
        "Выведем колонки "
      ]
    },
    {
      "cell_type": "code",
      "metadata": {
        "id": "8xGOIvWuZ4t_",
        "outputId": "f985174f-3ece-43fb-ec4e-19f7522e0b63"
      },
      "source": [
        "print(df1.columns)"
      ],
      "execution_count": null,
      "outputs": [
        {
          "name": "stdout",
          "output_type": "stream",
          "text": [
            "Index(['price', 'count'], dtype='object')\n"
          ]
        }
      ]
    },
    {
      "cell_type": "markdown",
      "metadata": {
        "id": "TI0ZVngjZ4t_"
      },
      "source": [
        "Создание на основе словаря из массивов"
      ]
    },
    {
      "cell_type": "code",
      "metadata": {
        "id": "c_igDCWeZ4uA",
        "outputId": "2e7375ae-fb81-4cb3-9dbb-52db823e89aa"
      },
      "source": [
        "d2 = {\"price\":np.array([1, 2, 3]),\n",
        "       \"count\": np.array([10, 12, 7])}\n",
        "df2 = pd.DataFrame(d2, index = ['v1', 'v2', 'v3'])\n",
        "print (df2)"
      ],
      "execution_count": null,
      "outputs": [
        {
          "name": "stdout",
          "output_type": "stream",
          "text": [
            "    price  count\n",
            "v1      1     10\n",
            "v2      2     12\n",
            "v3      3      7\n"
          ]
        }
      ]
    },
    {
      "cell_type": "markdown",
      "metadata": {
        "id": "mAn4XQaIZ4uA"
      },
      "source": [
        "Создание из двумерного массива"
      ]
    },
    {
      "cell_type": "code",
      "metadata": {
        "id": "QrioksFUZ4uA",
        "outputId": "021f1818-c2ce-4f00-d6f8-075ef6548308"
      },
      "source": [
        "nda1 = np.array([[1, 2, 3], [10, 20, 30]])\n",
        "df3 = pd.DataFrame(nda1, columns = ['a','b','c'], index = ['a1','a2'])\n",
        "print (df3)"
      ],
      "execution_count": null,
      "outputs": [
        {
          "name": "stdout",
          "output_type": "stream",
          "text": [
            "     a   b   c\n",
            "a1   1   2   3\n",
            "a2  10  20  30\n"
          ]
        }
      ]
    },
    {
      "cell_type": "markdown",
      "metadata": {
        "id": "VkIo6sKdZ4uA"
      },
      "source": [
        "#### Работа с DataFrame"
      ]
    },
    {
      "cell_type": "markdown",
      "metadata": {
        "id": "15S5kpj9Z4uA"
      },
      "source": [
        "Выбор столбца"
      ]
    },
    {
      "cell_type": "code",
      "metadata": {
        "id": "wbJGyH6ZZ4uA",
        "outputId": "6fa0b8a5-4120-4cc4-97dd-e692820ae2a1"
      },
      "source": [
        "print (df3['a'])"
      ],
      "execution_count": null,
      "outputs": [
        {
          "name": "stdout",
          "output_type": "stream",
          "text": [
            "a1     1\n",
            "a2    10\n",
            "Name: a, dtype: int32\n"
          ]
        }
      ]
    },
    {
      "cell_type": "markdown",
      "metadata": {
        "id": "fVSeD5bGZ4uB"
      },
      "source": [
        "Ввбор строки по индексу"
      ]
    },
    {
      "cell_type": "code",
      "metadata": {
        "id": "G9ExiBKrZ4uB",
        "outputId": "cb14cfa1-5cf9-4c4c-8c64-9bd484f7f347"
      },
      "source": [
        "print (df3.loc['a1'])"
      ],
      "execution_count": null,
      "outputs": [
        {
          "name": "stdout",
          "output_type": "stream",
          "text": [
            "a    1\n",
            "b    2\n",
            "c    3\n",
            "Name: a1, dtype: int32\n"
          ]
        }
      ]
    },
    {
      "cell_type": "markdown",
      "metadata": {
        "id": "LJaLXlJJZ4uB"
      },
      "source": [
        "Выбор строки по номеру"
      ]
    },
    {
      "cell_type": "code",
      "metadata": {
        "id": "H5_mRA_NZ4uB",
        "outputId": "cd100103-586d-4724-fe45-5d0ad36e82bf"
      },
      "source": [
        "print (df3.iloc[1])"
      ],
      "execution_count": null,
      "outputs": [
        {
          "name": "stdout",
          "output_type": "stream",
          "text": [
            "a    10\n",
            "b    20\n",
            "c    30\n",
            "Name: a2, dtype: int32\n"
          ]
        }
      ]
    },
    {
      "cell_type": "markdown",
      "metadata": {
        "id": "4V4HPSJkZ4uB"
      },
      "source": [
        "Добавление нового столбца"
      ]
    },
    {
      "cell_type": "code",
      "metadata": {
        "id": "WaCQuev9Z4uB",
        "outputId": "745a9bad-43bf-4d32-9030-fa79fd1556a5"
      },
      "source": [
        "df3['d'] =[5,6]\n",
        "print (df3)"
      ],
      "execution_count": null,
      "outputs": [
        {
          "name": "stdout",
          "output_type": "stream",
          "text": [
            "     a   b   c  d\n",
            "a1   1   2   3  5\n",
            "a2  10  20  30  6\n"
          ]
        }
      ]
    },
    {
      "cell_type": "markdown",
      "metadata": {
        "id": "MJ_yRn6MZ4uC"
      },
      "source": [
        "Выбор нескольких стоблцов"
      ]
    },
    {
      "cell_type": "code",
      "metadata": {
        "id": "kTqHjGvVZ4uC",
        "outputId": "e3c721d3-6d2e-4328-8513-3cb26da46cda"
      },
      "source": [
        "df_slice = df3[['a','b']]\n",
        "print (df_slice)"
      ],
      "execution_count": null,
      "outputs": [
        {
          "name": "stdout",
          "output_type": "stream",
          "text": [
            "     a   b\n",
            "a1   1   2\n",
            "a2  10  20\n"
          ]
        }
      ]
    },
    {
      "cell_type": "markdown",
      "metadata": {
        "id": "FJFimfMQZ4uC"
      },
      "source": [
        "Удаление столбца"
      ]
    },
    {
      "cell_type": "code",
      "metadata": {
        "id": "x6Ao1-qwZ4uC",
        "outputId": "dd233c8a-245c-400c-927a-7b32e65f602d"
      },
      "source": [
        "df_new = df3.drop(['a'], axis = 1)\n",
        "print (df_new)"
      ],
      "execution_count": null,
      "outputs": [
        {
          "name": "stdout",
          "output_type": "stream",
          "text": [
            "     b   c  d\n",
            "a1   2   3  5\n",
            "a2  20  30  6\n"
          ]
        }
      ]
    },
    {
      "cell_type": "markdown",
      "metadata": {
        "id": "q6wYkK1RZ4uC"
      },
      "source": [
        "Здесь первым аргументом идет список удаляемых элементов, потом указывается что удаляется 1- столбец, 0- строка. Если не указывать значение аргумента inplace, то в исходном DataFrame ничего не измениться\n"
      ]
    },
    {
      "cell_type": "code",
      "metadata": {
        "id": "XmgFqWtaZ4uC",
        "outputId": "b4b6dad9-2151-4c21-a3ae-58a14c64ed72"
      },
      "source": [
        "print(df3)"
      ],
      "execution_count": null,
      "outputs": [
        {
          "name": "stdout",
          "output_type": "stream",
          "text": [
            "     a   b   c  d\n",
            "a1   1   2   3  5\n",
            "a2  10  20  30  6\n"
          ]
        }
      ]
    },
    {
      "cell_type": "markdown",
      "metadata": {
        "id": "bqAYhmiPZ4uD"
      },
      "source": [
        "Укажем inplace = True"
      ]
    },
    {
      "cell_type": "code",
      "metadata": {
        "id": "UF5j1NdmZ4uD",
        "outputId": "f32f2271-18d0-4498-f3fa-16556f059c4b"
      },
      "source": [
        "df3.drop(['a'], axis = 1, inplace = True)\n",
        "print (df3)"
      ],
      "execution_count": null,
      "outputs": [
        {
          "name": "stdout",
          "output_type": "stream",
          "text": [
            "     b   c  d\n",
            "a1   2   3  5\n",
            "a2  20  30  6\n"
          ]
        }
      ]
    },
    {
      "cell_type": "markdown",
      "metadata": {
        "id": "4PAibSmJZ4uD"
      },
      "source": [
        "## Задание 1"
      ]
    },
    {
      "cell_type": "markdown",
      "metadata": {
        "id": "kxNFQ9eMZ4uD"
      },
      "source": [
        "Считайте данные с помощью load_boston()"
      ]
    },
    {
      "cell_type": "code",
      "metadata": {
        "id": "X_uIY2ynZ4uD"
      },
      "source": [
        "# Ваш код здесь\n",
        "boston = load_boston()"
      ],
      "execution_count": null,
      "outputs": []
    },
    {
      "cell_type": "markdown",
      "metadata": {
        "id": "FRLYceSHZ4uD"
      },
      "source": [
        "В поле data содержаться параметры модели, в поле feature_names содержаться имена полей данных, в поле target содержится целевая переменная. \n",
        "Рассмотрите тип скачанных данных и создайте DatаFrame с именем df из данных load_boston"
      ]
    },
    {
      "cell_type": "code",
      "metadata": {
        "id": "MW7xaCe6Z4uE",
        "outputId": "e0b005f3-9dce-4d56-8dc8-46797cfe0f4b"
      },
      "source": [
        "# Ваш код здесь\n",
        "print(boston['DESCR'])\n",
        "df=pd.DataFrame(boston['data'], columns=boston['feature_names'])\n",
        "print(df.columns)"
      ],
      "execution_count": null,
      "outputs": [
        {
          "name": "stdout",
          "output_type": "stream",
          "text": [
            "Boston House Prices dataset\n",
            "===========================\n",
            "\n",
            "Notes\n",
            "------\n",
            "Data Set Characteristics:  \n",
            "\n",
            "    :Number of Instances: 506 \n",
            "\n",
            "    :Number of Attributes: 13 numeric/categorical predictive\n",
            "    \n",
            "    :Median Value (attribute 14) is usually the target\n",
            "\n",
            "    :Attribute Information (in order):\n",
            "        - CRIM     per capita crime rate by town\n",
            "        - ZN       proportion of residential land zoned for lots over 25,000 sq.ft.\n",
            "        - INDUS    proportion of non-retail business acres per town\n",
            "        - CHAS     Charles River dummy variable (= 1 if tract bounds river; 0 otherwise)\n",
            "        - NOX      nitric oxides concentration (parts per 10 million)\n",
            "        - RM       average number of rooms per dwelling\n",
            "        - AGE      proportion of owner-occupied units built prior to 1940\n",
            "        - DIS      weighted distances to five Boston employment centres\n",
            "        - RAD      index of accessibility to radial highways\n",
            "        - TAX      full-value property-tax rate per $10,000\n",
            "        - PTRATIO  pupil-teacher ratio by town\n",
            "        - B        1000(Bk - 0.63)^2 where Bk is the proportion of blacks by town\n",
            "        - LSTAT    % lower status of the population\n",
            "        - MEDV     Median value of owner-occupied homes in $1000's\n",
            "\n",
            "    :Missing Attribute Values: None\n",
            "\n",
            "    :Creator: Harrison, D. and Rubinfeld, D.L.\n",
            "\n",
            "This is a copy of UCI ML housing dataset.\n",
            "http://archive.ics.uci.edu/ml/datasets/Housing\n",
            "\n",
            "\n",
            "This dataset was taken from the StatLib library which is maintained at Carnegie Mellon University.\n",
            "\n",
            "The Boston house-price data of Harrison, D. and Rubinfeld, D.L. 'Hedonic\n",
            "prices and the demand for clean air', J. Environ. Economics & Management,\n",
            "vol.5, 81-102, 1978.   Used in Belsley, Kuh & Welsch, 'Regression diagnostics\n",
            "...', Wiley, 1980.   N.B. Various transformations are used in the table on\n",
            "pages 244-261 of the latter.\n",
            "\n",
            "The Boston house-price data has been used in many machine learning papers that address regression\n",
            "problems.   \n",
            "     \n",
            "**References**\n",
            "\n",
            "   - Belsley, Kuh & Welsch, 'Regression diagnostics: Identifying Influential Data and Sources of Collinearity', Wiley, 1980. 244-261.\n",
            "   - Quinlan,R. (1993). Combining Instance-Based and Model-Based Learning. In Proceedings on the Tenth International Conference of Machine Learning, 236-243, University of Massachusetts, Amherst. Morgan Kaufmann.\n",
            "   - many more! (see http://archive.ics.uci.edu/ml/datasets/Housing)\n",
            "\n",
            "Index(['CRIM', 'ZN', 'INDUS', 'CHAS', 'NOX', 'RM', 'AGE', 'DIS', 'RAD', 'TAX',\n",
            "       'PTRATIO', 'B', 'LSTAT'],\n",
            "      dtype='object')\n"
          ]
        }
      ]
    },
    {
      "cell_type": "markdown",
      "metadata": {
        "id": "6a1C8RTXZ4uE"
      },
      "source": [
        "Выведите первые 10 строк полученного DataFrame с помощью функции head()"
      ]
    },
    {
      "cell_type": "code",
      "metadata": {
        "id": "4f-3WFMzZ4uE",
        "outputId": "612b3a21-b264-4e71-d5c5-fc7852f20e0e"
      },
      "source": [
        "# Ваш код здесь\n",
        "df.head(10)"
      ],
      "execution_count": null,
      "outputs": [
        {
          "data": {
            "text/html": [
              "<div>\n",
              "<style scoped>\n",
              "    .dataframe tbody tr th:only-of-type {\n",
              "        vertical-align: middle;\n",
              "    }\n",
              "\n",
              "    .dataframe tbody tr th {\n",
              "        vertical-align: top;\n",
              "    }\n",
              "\n",
              "    .dataframe thead th {\n",
              "        text-align: right;\n",
              "    }\n",
              "</style>\n",
              "<table border=\"1\" class=\"dataframe\">\n",
              "  <thead>\n",
              "    <tr style=\"text-align: right;\">\n",
              "      <th></th>\n",
              "      <th>CRIM</th>\n",
              "      <th>ZN</th>\n",
              "      <th>INDUS</th>\n",
              "      <th>CHAS</th>\n",
              "      <th>NOX</th>\n",
              "      <th>RM</th>\n",
              "      <th>AGE</th>\n",
              "      <th>DIS</th>\n",
              "      <th>RAD</th>\n",
              "      <th>TAX</th>\n",
              "      <th>PTRATIO</th>\n",
              "      <th>B</th>\n",
              "      <th>LSTAT</th>\n",
              "    </tr>\n",
              "  </thead>\n",
              "  <tbody>\n",
              "    <tr>\n",
              "      <th>0</th>\n",
              "      <td>0.00632</td>\n",
              "      <td>18.0</td>\n",
              "      <td>2.31</td>\n",
              "      <td>0.0</td>\n",
              "      <td>0.538</td>\n",
              "      <td>6.575</td>\n",
              "      <td>65.2</td>\n",
              "      <td>4.0900</td>\n",
              "      <td>1.0</td>\n",
              "      <td>296.0</td>\n",
              "      <td>15.3</td>\n",
              "      <td>396.90</td>\n",
              "      <td>4.98</td>\n",
              "    </tr>\n",
              "    <tr>\n",
              "      <th>1</th>\n",
              "      <td>0.02731</td>\n",
              "      <td>0.0</td>\n",
              "      <td>7.07</td>\n",
              "      <td>0.0</td>\n",
              "      <td>0.469</td>\n",
              "      <td>6.421</td>\n",
              "      <td>78.9</td>\n",
              "      <td>4.9671</td>\n",
              "      <td>2.0</td>\n",
              "      <td>242.0</td>\n",
              "      <td>17.8</td>\n",
              "      <td>396.90</td>\n",
              "      <td>9.14</td>\n",
              "    </tr>\n",
              "    <tr>\n",
              "      <th>2</th>\n",
              "      <td>0.02729</td>\n",
              "      <td>0.0</td>\n",
              "      <td>7.07</td>\n",
              "      <td>0.0</td>\n",
              "      <td>0.469</td>\n",
              "      <td>7.185</td>\n",
              "      <td>61.1</td>\n",
              "      <td>4.9671</td>\n",
              "      <td>2.0</td>\n",
              "      <td>242.0</td>\n",
              "      <td>17.8</td>\n",
              "      <td>392.83</td>\n",
              "      <td>4.03</td>\n",
              "    </tr>\n",
              "    <tr>\n",
              "      <th>3</th>\n",
              "      <td>0.03237</td>\n",
              "      <td>0.0</td>\n",
              "      <td>2.18</td>\n",
              "      <td>0.0</td>\n",
              "      <td>0.458</td>\n",
              "      <td>6.998</td>\n",
              "      <td>45.8</td>\n",
              "      <td>6.0622</td>\n",
              "      <td>3.0</td>\n",
              "      <td>222.0</td>\n",
              "      <td>18.7</td>\n",
              "      <td>394.63</td>\n",
              "      <td>2.94</td>\n",
              "    </tr>\n",
              "    <tr>\n",
              "      <th>4</th>\n",
              "      <td>0.06905</td>\n",
              "      <td>0.0</td>\n",
              "      <td>2.18</td>\n",
              "      <td>0.0</td>\n",
              "      <td>0.458</td>\n",
              "      <td>7.147</td>\n",
              "      <td>54.2</td>\n",
              "      <td>6.0622</td>\n",
              "      <td>3.0</td>\n",
              "      <td>222.0</td>\n",
              "      <td>18.7</td>\n",
              "      <td>396.90</td>\n",
              "      <td>5.33</td>\n",
              "    </tr>\n",
              "    <tr>\n",
              "      <th>5</th>\n",
              "      <td>0.02985</td>\n",
              "      <td>0.0</td>\n",
              "      <td>2.18</td>\n",
              "      <td>0.0</td>\n",
              "      <td>0.458</td>\n",
              "      <td>6.430</td>\n",
              "      <td>58.7</td>\n",
              "      <td>6.0622</td>\n",
              "      <td>3.0</td>\n",
              "      <td>222.0</td>\n",
              "      <td>18.7</td>\n",
              "      <td>394.12</td>\n",
              "      <td>5.21</td>\n",
              "    </tr>\n",
              "    <tr>\n",
              "      <th>6</th>\n",
              "      <td>0.08829</td>\n",
              "      <td>12.5</td>\n",
              "      <td>7.87</td>\n",
              "      <td>0.0</td>\n",
              "      <td>0.524</td>\n",
              "      <td>6.012</td>\n",
              "      <td>66.6</td>\n",
              "      <td>5.5605</td>\n",
              "      <td>5.0</td>\n",
              "      <td>311.0</td>\n",
              "      <td>15.2</td>\n",
              "      <td>395.60</td>\n",
              "      <td>12.43</td>\n",
              "    </tr>\n",
              "    <tr>\n",
              "      <th>7</th>\n",
              "      <td>0.14455</td>\n",
              "      <td>12.5</td>\n",
              "      <td>7.87</td>\n",
              "      <td>0.0</td>\n",
              "      <td>0.524</td>\n",
              "      <td>6.172</td>\n",
              "      <td>96.1</td>\n",
              "      <td>5.9505</td>\n",
              "      <td>5.0</td>\n",
              "      <td>311.0</td>\n",
              "      <td>15.2</td>\n",
              "      <td>396.90</td>\n",
              "      <td>19.15</td>\n",
              "    </tr>\n",
              "    <tr>\n",
              "      <th>8</th>\n",
              "      <td>0.21124</td>\n",
              "      <td>12.5</td>\n",
              "      <td>7.87</td>\n",
              "      <td>0.0</td>\n",
              "      <td>0.524</td>\n",
              "      <td>5.631</td>\n",
              "      <td>100.0</td>\n",
              "      <td>6.0821</td>\n",
              "      <td>5.0</td>\n",
              "      <td>311.0</td>\n",
              "      <td>15.2</td>\n",
              "      <td>386.63</td>\n",
              "      <td>29.93</td>\n",
              "    </tr>\n",
              "    <tr>\n",
              "      <th>9</th>\n",
              "      <td>0.17004</td>\n",
              "      <td>12.5</td>\n",
              "      <td>7.87</td>\n",
              "      <td>0.0</td>\n",
              "      <td>0.524</td>\n",
              "      <td>6.004</td>\n",
              "      <td>85.9</td>\n",
              "      <td>6.5921</td>\n",
              "      <td>5.0</td>\n",
              "      <td>311.0</td>\n",
              "      <td>15.2</td>\n",
              "      <td>386.71</td>\n",
              "      <td>17.10</td>\n",
              "    </tr>\n",
              "  </tbody>\n",
              "</table>\n",
              "</div>"
            ],
            "text/plain": [
              "      CRIM    ZN  INDUS  CHAS    NOX     RM    AGE     DIS  RAD    TAX  \\\n",
              "0  0.00632  18.0   2.31   0.0  0.538  6.575   65.2  4.0900  1.0  296.0   \n",
              "1  0.02731   0.0   7.07   0.0  0.469  6.421   78.9  4.9671  2.0  242.0   \n",
              "2  0.02729   0.0   7.07   0.0  0.469  7.185   61.1  4.9671  2.0  242.0   \n",
              "3  0.03237   0.0   2.18   0.0  0.458  6.998   45.8  6.0622  3.0  222.0   \n",
              "4  0.06905   0.0   2.18   0.0  0.458  7.147   54.2  6.0622  3.0  222.0   \n",
              "5  0.02985   0.0   2.18   0.0  0.458  6.430   58.7  6.0622  3.0  222.0   \n",
              "6  0.08829  12.5   7.87   0.0  0.524  6.012   66.6  5.5605  5.0  311.0   \n",
              "7  0.14455  12.5   7.87   0.0  0.524  6.172   96.1  5.9505  5.0  311.0   \n",
              "8  0.21124  12.5   7.87   0.0  0.524  5.631  100.0  6.0821  5.0  311.0   \n",
              "9  0.17004  12.5   7.87   0.0  0.524  6.004   85.9  6.5921  5.0  311.0   \n",
              "\n",
              "   PTRATIO       B  LSTAT  \n",
              "0     15.3  396.90   4.98  \n",
              "1     17.8  396.90   9.14  \n",
              "2     17.8  392.83   4.03  \n",
              "3     18.7  394.63   2.94  \n",
              "4     18.7  396.90   5.33  \n",
              "5     18.7  394.12   5.21  \n",
              "6     15.2  395.60  12.43  \n",
              "7     15.2  396.90  19.15  \n",
              "8     15.2  386.63  29.93  \n",
              "9     15.2  386.71  17.10  "
            ]
          },
          "execution_count": 23,
          "metadata": {},
          "output_type": "execute_result"
        }
      ]
    },
    {
      "cell_type": "markdown",
      "metadata": {
        "id": "u6FBtRmtZ4uF"
      },
      "source": [
        "Выделите из полученного DataFrame параметры модели в переменную X, а целевую переменную в Y"
      ]
    },
    {
      "cell_type": "code",
      "metadata": {
        "id": "hhrBlMQtZ4uF"
      },
      "source": [
        "# Ваш код здесь\n",
        "X=boston['data']\n",
        "Y=boston['target']"
      ],
      "execution_count": null,
      "outputs": []
    },
    {
      "cell_type": "markdown",
      "metadata": {
        "id": "LEGufT_mZ4uF"
      },
      "source": [
        "Выделите первые 300 записей выборки в обучающую часть, а оставшиеся в тестовую"
      ]
    },
    {
      "cell_type": "code",
      "metadata": {
        "id": "wuiYnZbAZ4uF"
      },
      "source": [
        "# Ваш код здесь\n",
        "# разбиваем массив признаков на обучающую и тестовую выборки\n",
        "X_train, X_test= X[:300], X[len(X)-300:]\n",
        "# также разбиваем массив с зависимой переменной\n",
        "Y_train, Y_test = Y[:300], Y[len(Y)-300:]\n"
      ],
      "execution_count": null,
      "outputs": []
    },
    {
      "cell_type": "markdown",
      "metadata": {
        "id": "gH1ntkM9Z4uF"
      },
      "source": [
        "### Регрессия"
      ]
    },
    {
      "cell_type": "markdown",
      "metadata": {
        "id": "217J6yWBZ4uG"
      },
      "source": [
        "Принципы и задачи регрессии из ложены в лекции. \n",
        "Построение модели регрессии заключается в вычислении весов регрессии. \n",
        "Для построения модели используется классы регрессоров из библиотеки SKLearn\n",
        "В этой работе мы будем использовать линейный регрессор, подробная информация о нем представлена здесь https://scikit-learn.org/stable/modules/generated/sklearn.linear_model.LinearRegression.html\n",
        "\n",
        "\n"
      ]
    },
    {
      "cell_type": "markdown",
      "metadata": {
        "id": "Lh7AWo-WZ4uG"
      },
      "source": [
        "**Алгоритм работы с регрессорами:**\n",
        "* создаем экземпляр класса регрессора\n",
        "* обучаем его на обучающей части выборки с помощью метода fit()\n",
        "* получаем веса модели с помощью метода coef_\n",
        "* оцениваем качество модели с помощью бибилиотеки metrics\n"
      ]
    },
    {
      "cell_type": "markdown",
      "metadata": {
        "id": "BJPhIwM6Z4uG"
      },
      "source": [
        "## Задание 2"
      ]
    },
    {
      "cell_type": "markdown",
      "metadata": {
        "id": "ziNakebrZ4uG"
      },
      "source": [
        "Создайте экземпляр класса LinearRegression() и обучите его на обучающей части выборки."
      ]
    },
    {
      "cell_type": "code",
      "metadata": {
        "id": "PUWPAT_cZ4uG",
        "outputId": "25eb728b-3229-4c9e-fa1b-fd22fcfe860b"
      },
      "source": [
        "# Ваш код здесь\n",
        "lm=LinearRegression()\n",
        "lm.fit(X_train, Y_train)"
      ],
      "execution_count": null,
      "outputs": [
        {
          "data": {
            "text/plain": [
              "LinearRegression(copy_X=True, fit_intercept=True, n_jobs=1, normalize=False)"
            ]
          },
          "execution_count": 26,
          "metadata": {},
          "output_type": "execute_result"
        }
      ]
    },
    {
      "cell_type": "markdown",
      "metadata": {
        "id": "shD8JkacZ4uH"
      },
      "source": [
        "Получите веса модели и выведите их на печать"
      ]
    },
    {
      "cell_type": "code",
      "metadata": {
        "id": "vKlQ_PXvZ4uH",
        "outputId": "b3a884d2-9cf5-4afa-821d-28b0659f9914"
      },
      "source": [
        "# Ваш код здесь\n",
        "coef=pd.DataFrame(lm.coef_)\n",
        "print(coef)"
      ],
      "execution_count": null,
      "outputs": [
        {
          "name": "stdout",
          "output_type": "stream",
          "text": [
            "           0\n",
            "0   1.201254\n",
            "1   0.014842\n",
            "2   0.023552\n",
            "3   0.602065\n",
            "4  -8.827642\n",
            "5   9.130622\n",
            "6  -0.047359\n",
            "7  -1.013286\n",
            "8   0.167866\n",
            "9  -0.014567\n",
            "10 -0.641834\n",
            "11  0.016779\n",
            "12 -0.109764\n"
          ]
        }
      ]
    },
    {
      "cell_type": "markdown",
      "metadata": {
        "id": "vzs0f89YZ4uH"
      },
      "source": [
        "Предположите переобучена ли модель"
      ]
    },
    {
      "cell_type": "code",
      "metadata": {
        "id": "X-lzznv-Z4uI"
      },
      "source": [
        "# Ваш ответ здесь"
      ],
      "execution_count": null,
      "outputs": []
    },
    {
      "cell_type": "markdown",
      "metadata": {
        "id": "b4dRngUSZ4uI"
      },
      "source": [
        "Получите значения цены на недвижимость, используя тестовую часть выборки с помощью метода predict(). Этот метод в качестве едиственного аргумента принимает параметры модели, на которых делается расчет значений модели."
      ]
    },
    {
      "cell_type": "code",
      "metadata": {
        "id": "A6CneXT2Z4uI",
        "outputId": "9e0e5eeb-5c07-4f51-e783-62455a255830"
      },
      "source": [
        "# Ваш код здесь\n",
        "predict=lm.predict(X_test)\n",
        "print(predict)"
      ],
      "execution_count": null,
      "outputs": [
        {
          "name": "stdout",
          "output_type": "stream",
          "text": [
            "[ 24.78989027  18.03259149  22.05931494  13.61360316  19.87383206\n",
            "  14.7165912   20.66686386  26.52427939  16.50600676  24.47414542\n",
            "  23.08532883  28.12492517  21.75906491  25.96389693  31.88841052\n",
            "  23.21050649  31.59940091  28.82176716  44.21796638  48.33555948\n",
            "  41.67074382  33.40083077  41.21528272  30.89031107  22.37966995\n",
            "  35.60529707  44.63002534  43.56246761  29.83679553  23.45388643\n",
            "  28.39085236  35.20344517  28.16048283  28.15396863  29.79992566\n",
            "  21.90165987  23.93080374  27.11067268  12.87861754  12.89383581\n",
            "  20.27319026  18.73625928  22.29035303  27.06497401  25.65891004\n",
            "  25.42555613  28.73325122  41.07026393  21.30676623  19.52838338\n",
            "  38.46966471  51.17292358  37.60139866  33.23503907  36.8697219\n",
            "  39.55035572  47.42296402  37.60493223  36.7105406   23.0601838\n",
            "  34.56811636  48.0248401   41.2203841   22.23228632  21.72301881\n",
            "  27.12842515  28.14486371  39.33114505  33.03106463  32.75240299\n",
            "  35.85003818  32.9860823   29.50960327  35.09302457  41.91409334\n",
            "  34.86337482  41.03629559  46.09332722  33.77187173  26.75098557\n",
            "  20.9244523   24.73192672  24.98068202  27.70273105  32.53081887\n",
            "  35.18819657  30.48574219  25.57598499  23.16612394  29.85133269\n",
            "  27.44933003  19.06862603  26.04709758  32.95075406  29.79108248\n",
            "  28.80787418  28.9385959   33.95980998  36.06473243  30.03397333\n",
            "  37.34956465  31.97991057  27.53105913  21.19042774  16.18684563\n",
            "  25.13904357  20.98289376  23.50677739  25.70499407  17.57145217\n",
            "  18.3970349   17.98149659  24.951302    22.26255121  25.16719139\n",
            "  24.66896958  21.74805928  16.93098947  25.78838644  26.31423203\n",
            "  24.62584001  21.03017255  19.65141755  24.47309949  21.03958307\n",
            "  18.62206487  21.78419616  23.08462718  22.87209402  21.03847382\n",
            "  19.50701896  18.6024124   22.21992535  21.06471166  20.34633584\n",
            "  33.02121376  23.04800162  26.94770651  29.30851627  16.95826468\n",
            "  15.16802008  24.68573236  27.31693513  25.82438955  21.40408183\n",
            "  21.07312976  15.65204281  25.97952346  12.40687692  15.24836432\n",
            "  28.34657182  24.46977391  24.05158988  22.28941428  25.17549549\n",
            "  21.96148768  14.5515092   19.42233148  47.5050814    0.40978875\n",
            "  10.46842116   9.80898775  14.93849732  32.18064909  36.75303085\n",
            "  30.8417175   27.1417048   18.5476307   20.09915072  53.00714933\n",
            "  40.29839513  35.57231524  48.22496693  39.82307145 132.95341645\n",
            "  40.40748396  22.52419975  20.88571864  22.8750237   28.77360152\n",
            "  32.32094608  33.37827605  21.5348619   20.15177818  21.92998931\n",
            "  23.00291768  20.55259263  28.99558759  31.64582376  31.09653058\n",
            "  27.09444006  23.03121729  56.18722136  25.79527228  45.39822648\n",
            "  36.38616352  30.95522696  40.12157289  60.50913168  94.50733439\n",
            "  23.95952291  27.33457912  20.57029327  38.64312539  70.87690751\n",
            "  33.75481066  19.3719257   40.59919411  50.49097077  34.53894621\n",
            "  29.7204627   36.30855809  97.5692079   32.42348771  31.98574511\n",
            "  23.55765112  27.22964616  19.56901812  18.35006429  27.27981723\n",
            "  26.08072193  58.37155595  22.39127819  24.72029322  25.70211771\n",
            "  31.3317386   25.18947637  21.9548242   29.76351673  29.44546134\n",
            "  31.20443829  27.83708383  24.89243679  23.37454302  40.34139565\n",
            "  30.6657438   24.49721818  31.71990667  26.61440657  14.22433604\n",
            "  25.02527752  29.76632969  28.47760201  26.84175885  24.13800865\n",
            "  27.37315271  24.52321243  37.78649662  27.02634668  20.6803365\n",
            "  14.57911712  18.725208    25.94090249  25.0831125   25.64528732\n",
            "  23.91974551  27.18936669  27.93697574  28.82402547  18.66006308\n",
            "  14.05264982  20.52576801  34.97457749  31.63135686  23.62081262\n",
            "  24.20276074  25.86653688  32.52118424  20.40691424  23.76257261\n",
            "  26.85209156  26.83726245  30.34677337  36.90952031  27.62868036\n",
            "  32.00358955  34.8086243   20.07630874  19.70367834  25.14430054\n",
            "  24.47622668  23.51077365   8.68220625   6.65209622   2.6395936\n",
            "  13.03673055  14.1550307   18.33989587  20.83361497  18.10574616\n",
            "  13.26551     17.7151051   20.6048966   15.78522312  19.73321195\n",
            "  25.54082888  21.18204475  28.83841101  26.94137539  20.0800139 ]\n"
          ]
        }
      ]
    },
    {
      "cell_type": "markdown",
      "metadata": {
        "id": "MjDKpecjZ4uI"
      },
      "source": [
        "Оцените полученную модель, рассчитав среднюю квадратичную ошибку, среднюю абсолютную ошибку и R2. Все эти величины рассчитываются соответствующими методами в классе metrics. Все они принимают 2 аргумента: 1 - истинные значения (для этого используем данные из тестовой выборки) и 2- предсказанные значения"
      ]
    },
    {
      "cell_type": "code",
      "metadata": {
        "id": "_l70kp2CZ4uI",
        "outputId": "9e8131fb-4f4e-41d7-bb22-6951e40a4ea5"
      },
      "source": [
        "# Ваш код здесь\n",
        "#Средняя квадратичная ошибка\n",
        "print(metrics.mean_squared_error(Y_test, predict))\n",
        "#Средняя абсолютная ошибка\n",
        "print(metrics.mean_absolute_error(Y_test, predict))\n",
        "#Коэффициент детерминации R2\n",
        "print(metrics.r2_score(Y_test, predict))"
      ],
      "execution_count": null,
      "outputs": [
        {
          "name": "stdout",
          "output_type": "stream",
          "text": [
            "253.63765324828515\n",
            "8.605527953470556\n",
            "-1.7145935180204184\n"
          ]
        }
      ]
    },
    {
      "cell_type": "markdown",
      "metadata": {
        "id": "78T5OCRhZ4uJ"
      },
      "source": [
        "Получите значения цены на недвижимость, используя обучающую часть выборки и оцените качество модели"
      ]
    },
    {
      "cell_type": "code",
      "metadata": {
        "id": "NPRkl_d8Z4uJ",
        "outputId": "73618b9f-4e82-48f4-d1a2-d1ca0bfa29bb"
      },
      "source": [
        "# Ваш код здесь\n",
        "predict_train=lm.predict(X_train)\n",
        "print(predict_train)\n",
        "#Средняя квадратичная ошибка\n",
        "print(metrics.mean_squared_error(Y_train, predict_train))\n",
        "#Средняя абсолютная ошибка\n",
        "print(metrics.mean_absolute_error(Y_train, predict_train))\n",
        "#Коэффициент детерминации R2(показывает, какую долю разнообразия ответов наша модель смогла объяснить или предсказать)\n",
        "print(metrics.r2_score(Y_train, predict_train))"
      ],
      "execution_count": null,
      "outputs": [
        {
          "name": "stdout",
          "output_type": "stream",
          "text": [
            "[28.13085992 24.55974551 32.87111436 30.79807835 31.58053802 24.74020289\n",
            " 21.38293461 20.40333806 13.87015953 18.78699272 21.83922259 19.87320044\n",
            " 21.23903451 18.89434942 18.91745619 18.2596326  21.0426816  18.09346006\n",
            " 14.53016992 17.10983621 13.64190434 18.02954016 19.55670346 15.5796975\n",
            " 16.66750028 12.60216948 15.32445358 16.65065836 22.11530749 24.54078625\n",
            " 14.10221169 18.75563044 14.69301258 14.86986856 16.89632404 20.99896474\n",
            " 19.98872748 21.04315763 22.63203255 30.00036391 34.46539534 31.39769384\n",
            " 25.61115064 26.02798907 22.78418757 20.28510946 20.84625294 19.47409118\n",
            " 11.84663458 16.61930813 21.16213889 22.09076366 28.20781096 23.15928469\n",
            " 14.4585649  33.9353677  23.26384527 30.962945   21.44901396 19.28445504\n",
            " 15.98293603 16.76101945 23.12326483 26.00066514 28.07710181 26.86184042\n",
            " 21.03742496 19.73394967 15.96865413 19.26874994 26.842559   21.78668617\n",
            " 23.82799797 25.21965039 25.74545566 23.34888724 21.85880285 22.30243301\n",
            " 21.55906396 20.16908403 29.19964276 26.23702067 25.21827904 23.10589055\n",
            " 25.65797067 28.09118962 22.36798443 23.96500026 30.8898516  32.61293749\n",
            " 26.33897711 25.9411203  27.68023196 26.96106506 24.61326426 28.13696167\n",
            " 23.40453753 41.379046   40.92416832 35.77602436 25.63410726 26.61970405\n",
            " 17.02524501 19.58528651 20.03914275 16.7148443  16.53286895 19.91660374\n",
            " 22.52939688 20.193716   21.521084   26.67504178 18.49768758 19.87133197\n",
            " 22.67233384 18.01357883 21.92345279 20.24694483 18.09127002 17.98986244\n",
            " 21.45699081 21.88117391 20.81471019 18.92358156 20.07699737 21.9014132\n",
            " 16.85752541 13.93199088 20.87082781 13.98953964 21.09516043 20.88527725\n",
            " 20.45265532 14.71220022 12.51538867 19.7899069  16.01848547 21.13478884\n",
            " 14.98078159 18.4287947  17.82169206  7.77739068 17.47134712 18.34787341\n",
            " 11.46217036 18.41135653 14.62235285 11.04791729 12.94719759 17.8036568\n",
            " 22.25413177 14.97119577 12.25488282 16.96736367 21.57616065 21.07412255\n",
            " 10.48654243 32.19751512 23.96964559 25.83495601 26.32811535 38.18709078\n",
            " 41.90465942 46.66601112 22.94907314 23.70775803 42.22739996 20.3554643\n",
            " 25.80177821 27.14544168 19.72959159 22.21459645 18.3349479  26.73849126\n",
            " 22.21299978 30.14918223 23.76821251 25.90136989 31.11055905 33.89315764\n",
            " 39.68123905 25.84341364 34.03780283 28.28622765 18.63141468 24.34166632\n",
            " 41.50649974 31.88593929 29.70642715 35.07971414 31.54640815 29.39121741\n",
            " 33.84659281 32.70666269 30.27822209 43.75784805 36.4869289  33.52104584\n",
            " 35.8087422  30.62717929 31.93856124 24.96449314 39.74664998 44.53266634\n",
            " 46.29350878 22.59625377 24.78989027 18.03259149 22.05931494 13.61360316\n",
            " 19.87383206 14.7165912  20.66686386 26.52427939 16.50600676 24.47414542\n",
            " 23.08532883 28.12492517 21.75906491 25.96389693 31.88841052 23.21050649\n",
            " 31.59940091 28.82176716 44.21796638 48.33555948 41.67074382 33.40083077\n",
            " 41.21528272 30.89031107 22.37966995 35.60529707 44.63002534 43.56246761\n",
            " 29.83679553 23.45388643 28.39085236 35.20344517 28.16048283 28.15396863\n",
            " 29.79992566 21.90165987 23.93080374 27.11067268 12.87861754 12.89383581\n",
            " 20.27319026 18.73625928 22.29035303 27.06497401 25.65891004 25.42555613\n",
            " 28.73325122 41.07026393 21.30676623 19.52838338 38.46966471 51.17292358\n",
            " 37.60139866 33.23503907 36.8697219  39.55035572 47.42296402 37.60493223\n",
            " 36.7105406  23.0601838  34.56811636 48.0248401  41.2203841  22.23228632\n",
            " 21.72301881 27.12842515 28.14486371 39.33114505 33.03106463 32.75240299\n",
            " 35.85003818 32.9860823  29.50960327 35.09302457 41.91409334 34.86337482\n",
            " 41.03629559 46.09332722 33.77187173 26.75098557 20.9244523  24.73192672\n",
            " 24.98068202 27.70273105 32.53081887 35.18819657 30.48574219 25.57598499\n",
            " 23.16612394 29.85133269 27.44933003 19.06862603 26.04709758 32.95075406]\n",
            "9.633874020539103\n",
            "2.4037990801730547\n",
            "0.877626706559497\n"
          ]
        }
      ]
    },
    {
      "cell_type": "markdown",
      "metadata": {
        "id": "Op4dwiOqZ4uJ"
      },
      "source": [
        "Сравните качество, полученное на тестовых и обучающих данных. Сделайте выводы о переобучении или недообучении модели."
      ]
    },
    {
      "cell_type": "markdown",
      "metadata": {
        "id": "T1UEzZh5Z4uJ"
      },
      "source": [
        "**Ваши выводы здесь**\n",
        "На тестовых данных коэффициент детерминации R2=-1.7 R2<0 из этого можно сделать вывод, что модель хуже константной. \n",
        "На обучающей части выборки мы получили R2=0,87 0<=R2<=1 и можно сказать, что модель относительно хорошего качества.\n",
        "Так как значение R2 \"лучше\" на обучающей части выборки, то мы делаем вывод, что наша модель переобучена. Работает хорошо на обучающих, но плохо на тестовых данных."
      ]
    },
    {
      "cell_type": "markdown",
      "metadata": {
        "id": "TnglnDnmZ4uJ"
      },
      "source": [
        "### Кросс-валидация"
      ]
    },
    {
      "cell_type": "markdown",
      "metadata": {
        "id": "RZjLXcUUZ4uJ"
      },
      "source": [
        "Этот прием позволяет улучшить качество модели.\n",
        "Суть ее заключается в разделении выборки на равные части (фолды) и использовании 1 части в качестве тестовой , а остальных в качестве обучающей части выборки. Модель обучается столько раз, на сколько частей разбивается выборка."
      ]
    },
    {
      "cell_type": "markdown",
      "metadata": {
        "id": "kVElY9JFZ4uK"
      },
      "source": [
        "<p>Для разбиения выборки по кросс валидации используется <p/>\n",
        "**cross_validation.train_test_split(X, Y, test_size = 0.3,random_state = 1)**\n",
        "* X - параметры модели\n",
        "* Y - целевая переменная\n",
        "* test_size - размер тестовой выборки в долях\n",
        "\n",
        "<p>Возращает</p> \n",
        "* 1- обучающую часть X\n",
        "* 2- тестовую часть X\n",
        "* 3- обучающую часть Y\n",
        "* 4- тестовую часть Y\n"
      ]
    },
    {
      "cell_type": "markdown",
      "metadata": {
        "id": "chmVzgjqZ4uK"
      },
      "source": [
        "## Задание 3"
      ]
    },
    {
      "cell_type": "markdown",
      "metadata": {
        "id": "i1s0O669Z4uK"
      },
      "source": [
        "Разбейте выборку по кросс валидации и обучите регрессор"
      ]
    },
    {
      "cell_type": "code",
      "metadata": {
        "id": "46daaFYmZ4uK",
        "outputId": "1c3fbdb0-f6bc-46de-e282-5197aa153dcd"
      },
      "source": [
        "# Ваш код здесь\n",
        "x_train, x_test, y_train, y_test = cross_validation.train_test_split(X, Y, test_size=0.3, random_state=1)\n",
        "lm2=LinearRegression()\n",
        "lm2.fit(x_train, y_train)"
      ],
      "execution_count": null,
      "outputs": [
        {
          "data": {
            "text/plain": [
              "LinearRegression(copy_X=True, fit_intercept=True, n_jobs=1, normalize=False)"
            ]
          },
          "execution_count": 32,
          "metadata": {},
          "output_type": "execute_result"
        }
      ]
    },
    {
      "cell_type": "markdown",
      "metadata": {
        "id": "MYSxSKUDZ4uK"
      },
      "source": [
        "Оцените качество модели на тестовой части выборки"
      ]
    },
    {
      "cell_type": "code",
      "metadata": {
        "id": "hu9mCmiuZ4uK",
        "outputId": "a273cab4-2028-4baf-e826-18c2b5bc466a"
      },
      "source": [
        "# Ваш код здесь\n",
        "predict2=lm2.predict(x_test)\n",
        "#Средняя квадратичная ошибка\n",
        "print(metrics.mean_squared_error(y_test, predict2))\n",
        "#Средняя абсолютная ошибка\n",
        "print(metrics.mean_absolute_error(y_test, predict2))\n",
        "#Коэффициент детерминации R2\n",
        "print(metrics.r2_score(y_test, predict2))"
      ],
      "execution_count": null,
      "outputs": [
        {
          "name": "stdout",
          "output_type": "stream",
          "text": [
            "19.829609248605003\n",
            "3.3435599938994938\n",
            "0.7836482437943243\n"
          ]
        }
      ]
    },
    {
      "cell_type": "markdown",
      "metadata": {
        "id": "5PV8zQpQZ4uK"
      },
      "source": [
        "Оцените качество модели на обучающей части выборки"
      ]
    },
    {
      "cell_type": "code",
      "metadata": {
        "id": "THLn6uGMZ4uL",
        "outputId": "99631f41-9293-4b27-da5e-fe3b0eb9b2d4"
      },
      "source": [
        "# Ваш код здесь\n",
        "predict_train2=lm2.predict(x_train)\n",
        "#Средняя квадратичная ошибка\n",
        "print(metrics.mean_squared_error(y_train, predict_train2))\n",
        "#Средняя абсолютная ошибка\n",
        "print(metrics.mean_absolute_error(y_train, predict_train2))\n",
        "#Коэффициент детерминации R2(показывает, какую долю разнообразия ответов наша модель смогла объяснить или предсказать)\n",
        "print(metrics.r2_score(y_train, predict_train2))"
      ],
      "execution_count": null,
      "outputs": [
        {
          "name": "stdout",
          "output_type": "stream",
          "text": [
            "23.517585145992793\n",
            "3.3464680190260987\n",
            "0.7103355525346499\n"
          ]
        }
      ]
    },
    {
      "cell_type": "markdown",
      "metadata": {
        "id": "0DWF6E75Z4uL"
      },
      "source": [
        "Сделайте выводы о переобучении или недообучении модели"
      ]
    },
    {
      "cell_type": "markdown",
      "metadata": {
        "id": "PbPQN5iJZ4uL"
      },
      "source": [
        "**Ваши выводы** И на тестовых, и на обучающих данных коэффициент находится в промежутке [0;1] (0.78 для тестовой, 0.71 для обучающей)можно сказать, что модели относительно хорошего качества. Делаем вывод, что модель находится в той оптимальной точке, когда модель имеет наилучшую обобщающую способность."
      ]
    },
    {
      "cell_type": "markdown",
      "metadata": {
        "id": "mi8O-BaGZ4uL"
      },
      "source": [
        "Получите веса модели и сохраните их в файл excel"
      ]
    },
    {
      "cell_type": "code",
      "metadata": {
        "id": "7ugH9sDdZ4uL"
      },
      "source": [
        "# Ваш код здесь\n",
        "coef2=pd.DataFrame(lm2.coef_)\n",
        "\n",
        "writer = pd.ExcelWriter('lab3_answer1.xlsx', engine='xlsxwriter')\n",
        "coef2.to_excel(writer, sheet_name='table')\n",
        "writer.save()"
      ],
      "execution_count": null,
      "outputs": []
    },
    {
      "cell_type": "code",
      "metadata": {
        "id": "MU5zwrW6Z4uL"
      },
      "source": [
        ""
      ],
      "execution_count": null,
      "outputs": []
    }
  ]
}